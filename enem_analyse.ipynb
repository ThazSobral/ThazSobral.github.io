{
  "nbformat": 4,
  "nbformat_minor": 0,
  "metadata": {
    "colab": {
      "name": "enem-analyse.ipynb",
      "provenance": [],
      "collapsed_sections": [
        "5xvZcw7SSKpv",
        "3odbGhkDcGar",
        "E6l3zNJ0CV9T",
        "7VOAYOovKdVj",
        "URQaXJOIKn6T",
        "gVCSNjLrLI4g",
        "yCoHNi5lmkoe",
        "Nk1giZw5M6Of"
      ],
      "mount_file_id": "1moqA0N6g1-JcHHJstuwUhsEeU-mOC_qQ",
      "authorship_tag": "ABX9TyMAVFfoPqIeJ/EDk8XxQtVn",
      "include_colab_link": true
    },
    "kernelspec": {
      "name": "python3",
      "display_name": "Python 3"
    }
  },
  "cells": [
    {
      "cell_type": "markdown",
      "metadata": {
        "id": "view-in-github",
        "colab_type": "text"
      },
      "source": [
        "<a href=\"https://colab.research.google.com/github/ThazSobral/ThazSobral.github.io/blob/master/enem_analyse.ipynb\" target=\"_parent\"><img src=\"https://colab.research.google.com/assets/colab-badge.svg\" alt=\"Open In Colab\"/></a>"
      ]
    },
    {
      "cell_type": "markdown",
      "metadata": {
        "id": "kjyUtEtlRhow",
        "colab_type": "text"
      },
      "source": [
        "<p align=\"center\"><img src=\"https://upload.wikimedia.org/wikipedia/pt/8/80/Enem_logo.png?1591314294326\" /></p>"
      ]
    },
    {
      "cell_type": "markdown",
      "metadata": {
        "id": "-l_84GSaSOad",
        "colab_type": "text"
      },
      "source": [
        "# Análise de dados do ENEM"
      ]
    },
    {
      "cell_type": "markdown",
      "metadata": {
        "id": "5xvZcw7SSKpv",
        "colab_type": "text"
      },
      "source": [
        "## Import libraries"
      ]
    },
    {
      "cell_type": "code",
      "metadata": {
        "id": "HtrzOMXtNzBN",
        "colab_type": "code",
        "colab": {}
      },
      "source": [
        "import pandas as pd\n",
        "import matplotlib"
      ],
      "execution_count": 0,
      "outputs": []
    },
    {
      "cell_type": "markdown",
      "metadata": {
        "id": "3odbGhkDcGar",
        "colab_type": "text"
      },
      "source": [
        "## Import Dataframe\n",
        "\n",
        "**Repositório**: [enem-analyse](https://github.com/ThazSobral/enem-analyse)\n",
        "O repositório utilizado é um recorte, pois o intuito desse notebook é apenas didático"
      ]
    },
    {
      "cell_type": "code",
      "metadata": {
        "id": "-VzyhuyBamPO",
        "colab_type": "code",
        "outputId": "36cdf837-db43-46f4-d50a-ceeffe64649c",
        "colab": {
          "base_uri": "https://localhost:8080/",
          "height": 246
        }
      },
      "source": [
        "uri = 'https://raw.githubusercontent.com/ThazSobral/enem-analyse/master/recorte-primeiros-1000.csv'\n",
        "data_enem = pd.read_csv(uri, sep=';', encoding='ISO-8859-1')\n",
        "data_enem.head()"
      ],
      "execution_count": 2,
      "outputs": [
        {
          "output_type": "execute_result",
          "data": {
            "text/html": [
              "<div>\n",
              "<style scoped>\n",
              "    .dataframe tbody tr th:only-of-type {\n",
              "        vertical-align: middle;\n",
              "    }\n",
              "\n",
              "    .dataframe tbody tr th {\n",
              "        vertical-align: top;\n",
              "    }\n",
              "\n",
              "    .dataframe thead th {\n",
              "        text-align: right;\n",
              "    }\n",
              "</style>\n",
              "<table border=\"1\" class=\"dataframe\">\n",
              "  <thead>\n",
              "    <tr style=\"text-align: right;\">\n",
              "      <th></th>\n",
              "      <th>NU_INSCRICAO</th>\n",
              "      <th>NU_ANO</th>\n",
              "      <th>CO_MUNICIPIO_RESIDENCIA</th>\n",
              "      <th>NO_MUNICIPIO_RESIDENCIA</th>\n",
              "      <th>CO_UF_RESIDENCIA</th>\n",
              "      <th>SG_UF_RESIDENCIA</th>\n",
              "      <th>NU_IDADE</th>\n",
              "      <th>TP_SEXO</th>\n",
              "      <th>TP_ESTADO_CIVIL</th>\n",
              "      <th>TP_COR_RACA</th>\n",
              "      <th>TP_NACIONALIDADE</th>\n",
              "      <th>CO_MUNICIPIO_NASCIMENTO</th>\n",
              "      <th>NO_MUNICIPIO_NASCIMENTO</th>\n",
              "      <th>CO_UF_NASCIMENTO</th>\n",
              "      <th>SG_UF_NASCIMENTO</th>\n",
              "      <th>TP_ST_CONCLUSAO</th>\n",
              "      <th>TP_ANO_CONCLUIU</th>\n",
              "      <th>TP_ESCOLA</th>\n",
              "      <th>TP_ENSINO</th>\n",
              "      <th>IN_TREINEIRO</th>\n",
              "      <th>CO_ESCOLA</th>\n",
              "      <th>CO_MUNICIPIO_ESC</th>\n",
              "      <th>NO_MUNICIPIO_ESC</th>\n",
              "      <th>CO_UF_ESC</th>\n",
              "      <th>SG_UF_ESC</th>\n",
              "      <th>TP_DEPENDENCIA_ADM_ESC</th>\n",
              "      <th>TP_LOCALIZACAO_ESC</th>\n",
              "      <th>TP_SIT_FUNC_ESC</th>\n",
              "      <th>IN_BAIXA_VISAO</th>\n",
              "      <th>IN_CEGUEIRA</th>\n",
              "      <th>IN_SURDEZ</th>\n",
              "      <th>IN_DEFICIENCIA_AUDITIVA</th>\n",
              "      <th>IN_SURDO_CEGUEIRA</th>\n",
              "      <th>IN_DEFICIENCIA_FISICA</th>\n",
              "      <th>IN_DEFICIENCIA_MENTAL</th>\n",
              "      <th>IN_DEFICIT_ATENCAO</th>\n",
              "      <th>IN_DISLEXIA</th>\n",
              "      <th>IN_DISCALCULIA</th>\n",
              "      <th>IN_AUTISMO</th>\n",
              "      <th>IN_VISAO_MONOCULAR</th>\n",
              "      <th>...</th>\n",
              "      <th>TX_RESPOSTAS_MT</th>\n",
              "      <th>TP_LINGUA</th>\n",
              "      <th>TX_GABARITO_CN</th>\n",
              "      <th>TX_GABARITO_CH</th>\n",
              "      <th>TX_GABARITO_LC</th>\n",
              "      <th>TX_GABARITO_MT</th>\n",
              "      <th>TP_STATUS_REDACAO</th>\n",
              "      <th>NU_NOTA_COMP1</th>\n",
              "      <th>NU_NOTA_COMP2</th>\n",
              "      <th>NU_NOTA_COMP3</th>\n",
              "      <th>NU_NOTA_COMP4</th>\n",
              "      <th>NU_NOTA_COMP5</th>\n",
              "      <th>NU_NOTA_REDACAO</th>\n",
              "      <th>Q001</th>\n",
              "      <th>Q002</th>\n",
              "      <th>Q003</th>\n",
              "      <th>Q004</th>\n",
              "      <th>Q005</th>\n",
              "      <th>Q006</th>\n",
              "      <th>Q007</th>\n",
              "      <th>Q008</th>\n",
              "      <th>Q009</th>\n",
              "      <th>Q010</th>\n",
              "      <th>Q011</th>\n",
              "      <th>Q012</th>\n",
              "      <th>Q013</th>\n",
              "      <th>Q014</th>\n",
              "      <th>Q015</th>\n",
              "      <th>Q016</th>\n",
              "      <th>Q017</th>\n",
              "      <th>Q018</th>\n",
              "      <th>Q019</th>\n",
              "      <th>Q020</th>\n",
              "      <th>Q021</th>\n",
              "      <th>Q022</th>\n",
              "      <th>Q023</th>\n",
              "      <th>Q024</th>\n",
              "      <th>Q025</th>\n",
              "      <th>Q026</th>\n",
              "      <th>Q027</th>\n",
              "    </tr>\n",
              "  </thead>\n",
              "  <tbody>\n",
              "    <tr>\n",
              "      <th>0</th>\n",
              "      <td>1,80008E+11</td>\n",
              "      <td>2018</td>\n",
              "      <td>5300108</td>\n",
              "      <td>Brasília</td>\n",
              "      <td>53</td>\n",
              "      <td>DF</td>\n",
              "      <td>44</td>\n",
              "      <td>M</td>\n",
              "      <td>1.0</td>\n",
              "      <td>1</td>\n",
              "      <td>0</td>\n",
              "      <td>NaN</td>\n",
              "      <td>NaN</td>\n",
              "      <td>NaN</td>\n",
              "      <td>NaN</td>\n",
              "      <td>2</td>\n",
              "      <td>0</td>\n",
              "      <td>2</td>\n",
              "      <td>1.0</td>\n",
              "      <td>0</td>\n",
              "      <td>52033333.0</td>\n",
              "      <td>5208707.0</td>\n",
              "      <td>Goiânia</td>\n",
              "      <td>52.0</td>\n",
              "      <td>GO</td>\n",
              "      <td>2.0</td>\n",
              "      <td>1.0</td>\n",
              "      <td>1.0</td>\n",
              "      <td>0</td>\n",
              "      <td>0</td>\n",
              "      <td>0</td>\n",
              "      <td>0</td>\n",
              "      <td>0</td>\n",
              "      <td>0</td>\n",
              "      <td>0</td>\n",
              "      <td>0</td>\n",
              "      <td>0</td>\n",
              "      <td>0</td>\n",
              "      <td>0</td>\n",
              "      <td>0</td>\n",
              "      <td>...</td>\n",
              "      <td>NaN</td>\n",
              "      <td>1</td>\n",
              "      <td>NaN</td>\n",
              "      <td>NaN</td>\n",
              "      <td>NaN</td>\n",
              "      <td>NaN</td>\n",
              "      <td>NaN</td>\n",
              "      <td>NaN</td>\n",
              "      <td>NaN</td>\n",
              "      <td>NaN</td>\n",
              "      <td>NaN</td>\n",
              "      <td>NaN</td>\n",
              "      <td>NaN</td>\n",
              "      <td>A</td>\n",
              "      <td>A</td>\n",
              "      <td>A</td>\n",
              "      <td>A</td>\n",
              "      <td>1</td>\n",
              "      <td>A</td>\n",
              "      <td>A</td>\n",
              "      <td>A</td>\n",
              "      <td>A</td>\n",
              "      <td>A</td>\n",
              "      <td>A</td>\n",
              "      <td>A</td>\n",
              "      <td>A</td>\n",
              "      <td>A</td>\n",
              "      <td>A</td>\n",
              "      <td>A</td>\n",
              "      <td>A</td>\n",
              "      <td>A</td>\n",
              "      <td>A</td>\n",
              "      <td>A</td>\n",
              "      <td>A</td>\n",
              "      <td>A</td>\n",
              "      <td>A</td>\n",
              "      <td>A</td>\n",
              "      <td>A</td>\n",
              "      <td>B</td>\n",
              "      <td>A</td>\n",
              "    </tr>\n",
              "    <tr>\n",
              "      <th>1</th>\n",
              "      <td>1,80007E+11</td>\n",
              "      <td>2018</td>\n",
              "      <td>2111102</td>\n",
              "      <td>São João dos Patos</td>\n",
              "      <td>21</td>\n",
              "      <td>MA</td>\n",
              "      <td>23</td>\n",
              "      <td>F</td>\n",
              "      <td>0.0</td>\n",
              "      <td>3</td>\n",
              "      <td>1</td>\n",
              "      <td>2111102.0</td>\n",
              "      <td>São João dos Patos</td>\n",
              "      <td>21.0</td>\n",
              "      <td>MA</td>\n",
              "      <td>1</td>\n",
              "      <td>5</td>\n",
              "      <td>1</td>\n",
              "      <td>1.0</td>\n",
              "      <td>0</td>\n",
              "      <td>NaN</td>\n",
              "      <td>NaN</td>\n",
              "      <td>NaN</td>\n",
              "      <td>NaN</td>\n",
              "      <td>NaN</td>\n",
              "      <td>NaN</td>\n",
              "      <td>NaN</td>\n",
              "      <td>NaN</td>\n",
              "      <td>0</td>\n",
              "      <td>0</td>\n",
              "      <td>0</td>\n",
              "      <td>0</td>\n",
              "      <td>0</td>\n",
              "      <td>0</td>\n",
              "      <td>0</td>\n",
              "      <td>0</td>\n",
              "      <td>0</td>\n",
              "      <td>0</td>\n",
              "      <td>0</td>\n",
              "      <td>0</td>\n",
              "      <td>...</td>\n",
              "      <td>CACBEEDBDDAEAEDDABAAEEAEAEEABAEDAAAACEAABADAA</td>\n",
              "      <td>0</td>\n",
              "      <td>EBBEBACEDDEDDCBCCACBDDDAECAADBCEABEAEABDBCACE</td>\n",
              "      <td>CACDDBDDECCEDEEEBCEAEECBBEBEDBEDECBEBDCAABCDE</td>\n",
              "      <td>BBDECBBCDBCECBABDBEDACDDBBBEADECACEDBEBABCBEAE...</td>\n",
              "      <td>ADCACEDDABEBBCBCADDACCCDEBBDAEEDBEXBCAEDABADA</td>\n",
              "      <td>1.0</td>\n",
              "      <td>120.0</td>\n",
              "      <td>40.0</td>\n",
              "      <td>40.0</td>\n",
              "      <td>60.0</td>\n",
              "      <td>20.0</td>\n",
              "      <td>280.0</td>\n",
              "      <td>B</td>\n",
              "      <td>B</td>\n",
              "      <td>A</td>\n",
              "      <td>A</td>\n",
              "      <td>4</td>\n",
              "      <td>B</td>\n",
              "      <td>A</td>\n",
              "      <td>B</td>\n",
              "      <td>C</td>\n",
              "      <td>A</td>\n",
              "      <td>A</td>\n",
              "      <td>B</td>\n",
              "      <td>A</td>\n",
              "      <td>A</td>\n",
              "      <td>A</td>\n",
              "      <td>A</td>\n",
              "      <td>A</td>\n",
              "      <td>A</td>\n",
              "      <td>B</td>\n",
              "      <td>A</td>\n",
              "      <td>A</td>\n",
              "      <td>B</td>\n",
              "      <td>A</td>\n",
              "      <td>A</td>\n",
              "      <td>A</td>\n",
              "      <td>A</td>\n",
              "      <td>A</td>\n",
              "    </tr>\n",
              "    <tr>\n",
              "      <th>2</th>\n",
              "      <td>1,80009E+11</td>\n",
              "      <td>2018</td>\n",
              "      <td>3530607</td>\n",
              "      <td>Mogi das Cruzes</td>\n",
              "      <td>35</td>\n",
              "      <td>SP</td>\n",
              "      <td>23</td>\n",
              "      <td>F</td>\n",
              "      <td>0.0</td>\n",
              "      <td>1</td>\n",
              "      <td>1</td>\n",
              "      <td>4209300.0</td>\n",
              "      <td>Lages</td>\n",
              "      <td>42.0</td>\n",
              "      <td>SC</td>\n",
              "      <td>1</td>\n",
              "      <td>3</td>\n",
              "      <td>1</td>\n",
              "      <td>3.0</td>\n",
              "      <td>0</td>\n",
              "      <td>NaN</td>\n",
              "      <td>NaN</td>\n",
              "      <td>NaN</td>\n",
              "      <td>NaN</td>\n",
              "      <td>NaN</td>\n",
              "      <td>NaN</td>\n",
              "      <td>NaN</td>\n",
              "      <td>NaN</td>\n",
              "      <td>0</td>\n",
              "      <td>0</td>\n",
              "      <td>0</td>\n",
              "      <td>0</td>\n",
              "      <td>0</td>\n",
              "      <td>0</td>\n",
              "      <td>0</td>\n",
              "      <td>0</td>\n",
              "      <td>0</td>\n",
              "      <td>0</td>\n",
              "      <td>0</td>\n",
              "      <td>0</td>\n",
              "      <td>...</td>\n",
              "      <td>NaN</td>\n",
              "      <td>0</td>\n",
              "      <td>NaN</td>\n",
              "      <td>NaN</td>\n",
              "      <td>NaN</td>\n",
              "      <td>NaN</td>\n",
              "      <td>NaN</td>\n",
              "      <td>NaN</td>\n",
              "      <td>NaN</td>\n",
              "      <td>NaN</td>\n",
              "      <td>NaN</td>\n",
              "      <td>NaN</td>\n",
              "      <td>NaN</td>\n",
              "      <td>E</td>\n",
              "      <td>E</td>\n",
              "      <td>C</td>\n",
              "      <td>B</td>\n",
              "      <td>4</td>\n",
              "      <td>C</td>\n",
              "      <td>A</td>\n",
              "      <td>B</td>\n",
              "      <td>C</td>\n",
              "      <td>B</td>\n",
              "      <td>A</td>\n",
              "      <td>B</td>\n",
              "      <td>A</td>\n",
              "      <td>B</td>\n",
              "      <td>A</td>\n",
              "      <td>B</td>\n",
              "      <td>A</td>\n",
              "      <td>A</td>\n",
              "      <td>B</td>\n",
              "      <td>A</td>\n",
              "      <td>A</td>\n",
              "      <td>B</td>\n",
              "      <td>B</td>\n",
              "      <td>B</td>\n",
              "      <td>B</td>\n",
              "      <td>A</td>\n",
              "      <td>A</td>\n",
              "    </tr>\n",
              "    <tr>\n",
              "      <th>3</th>\n",
              "      <td>1,80008E+11</td>\n",
              "      <td>2018</td>\n",
              "      <td>2916401</td>\n",
              "      <td>Itapetinga</td>\n",
              "      <td>29</td>\n",
              "      <td>BA</td>\n",
              "      <td>26</td>\n",
              "      <td>F</td>\n",
              "      <td>0.0</td>\n",
              "      <td>3</td>\n",
              "      <td>2</td>\n",
              "      <td>NaN</td>\n",
              "      <td>NaN</td>\n",
              "      <td>NaN</td>\n",
              "      <td>NaN</td>\n",
              "      <td>1</td>\n",
              "      <td>8</td>\n",
              "      <td>1</td>\n",
              "      <td>1.0</td>\n",
              "      <td>0</td>\n",
              "      <td>NaN</td>\n",
              "      <td>NaN</td>\n",
              "      <td>NaN</td>\n",
              "      <td>NaN</td>\n",
              "      <td>NaN</td>\n",
              "      <td>NaN</td>\n",
              "      <td>NaN</td>\n",
              "      <td>NaN</td>\n",
              "      <td>0</td>\n",
              "      <td>0</td>\n",
              "      <td>0</td>\n",
              "      <td>0</td>\n",
              "      <td>0</td>\n",
              "      <td>0</td>\n",
              "      <td>0</td>\n",
              "      <td>0</td>\n",
              "      <td>0</td>\n",
              "      <td>0</td>\n",
              "      <td>0</td>\n",
              "      <td>0</td>\n",
              "      <td>...</td>\n",
              "      <td>NaN</td>\n",
              "      <td>1</td>\n",
              "      <td>NaN</td>\n",
              "      <td>NaN</td>\n",
              "      <td>NaN</td>\n",
              "      <td>NaN</td>\n",
              "      <td>NaN</td>\n",
              "      <td>NaN</td>\n",
              "      <td>NaN</td>\n",
              "      <td>NaN</td>\n",
              "      <td>NaN</td>\n",
              "      <td>NaN</td>\n",
              "      <td>NaN</td>\n",
              "      <td>B</td>\n",
              "      <td>C</td>\n",
              "      <td>C</td>\n",
              "      <td>B</td>\n",
              "      <td>4</td>\n",
              "      <td>B</td>\n",
              "      <td>A</td>\n",
              "      <td>B</td>\n",
              "      <td>C</td>\n",
              "      <td>A</td>\n",
              "      <td>A</td>\n",
              "      <td>B</td>\n",
              "      <td>A</td>\n",
              "      <td>A</td>\n",
              "      <td>A</td>\n",
              "      <td>B</td>\n",
              "      <td>A</td>\n",
              "      <td>A</td>\n",
              "      <td>B</td>\n",
              "      <td>B</td>\n",
              "      <td>A</td>\n",
              "      <td>C</td>\n",
              "      <td>A</td>\n",
              "      <td>B</td>\n",
              "      <td>B</td>\n",
              "      <td>A</td>\n",
              "      <td>A</td>\n",
              "    </tr>\n",
              "    <tr>\n",
              "      <th>4</th>\n",
              "      <td>1,80009E+11</td>\n",
              "      <td>2018</td>\n",
              "      <td>2918100</td>\n",
              "      <td>Jeremoabo</td>\n",
              "      <td>29</td>\n",
              "      <td>BA</td>\n",
              "      <td>20</td>\n",
              "      <td>M</td>\n",
              "      <td>0.0</td>\n",
              "      <td>0</td>\n",
              "      <td>1</td>\n",
              "      <td>2800308.0</td>\n",
              "      <td>Aracaju</td>\n",
              "      <td>28.0</td>\n",
              "      <td>SE</td>\n",
              "      <td>2</td>\n",
              "      <td>0</td>\n",
              "      <td>2</td>\n",
              "      <td>1.0</td>\n",
              "      <td>0</td>\n",
              "      <td>29112699.0</td>\n",
              "      <td>2918100.0</td>\n",
              "      <td>Jeremoabo</td>\n",
              "      <td>29.0</td>\n",
              "      <td>BA</td>\n",
              "      <td>2.0</td>\n",
              "      <td>1.0</td>\n",
              "      <td>1.0</td>\n",
              "      <td>0</td>\n",
              "      <td>0</td>\n",
              "      <td>0</td>\n",
              "      <td>0</td>\n",
              "      <td>0</td>\n",
              "      <td>0</td>\n",
              "      <td>0</td>\n",
              "      <td>0</td>\n",
              "      <td>0</td>\n",
              "      <td>0</td>\n",
              "      <td>0</td>\n",
              "      <td>0</td>\n",
              "      <td>...</td>\n",
              "      <td>NaN</td>\n",
              "      <td>1</td>\n",
              "      <td>NaN</td>\n",
              "      <td>CDECAABBDDECBEEDBEBBEBEDEEEBCEAEECECCDBDDCACD</td>\n",
              "      <td>CBEDBBBDCBECADBBBECBEAECABDADACDBABCECBBEDADAB...</td>\n",
              "      <td>NaN</td>\n",
              "      <td>1.0</td>\n",
              "      <td>140.0</td>\n",
              "      <td>40.0</td>\n",
              "      <td>40.0</td>\n",
              "      <td>120.0</td>\n",
              "      <td>20.0</td>\n",
              "      <td>360.0</td>\n",
              "      <td>C</td>\n",
              "      <td>E</td>\n",
              "      <td>A</td>\n",
              "      <td>D</td>\n",
              "      <td>3</td>\n",
              "      <td>B</td>\n",
              "      <td>A</td>\n",
              "      <td>B</td>\n",
              "      <td>C</td>\n",
              "      <td>A</td>\n",
              "      <td>B</td>\n",
              "      <td>B</td>\n",
              "      <td>A</td>\n",
              "      <td>A</td>\n",
              "      <td>A</td>\n",
              "      <td>A</td>\n",
              "      <td>A</td>\n",
              "      <td>A</td>\n",
              "      <td>B</td>\n",
              "      <td>A</td>\n",
              "      <td>A</td>\n",
              "      <td>B</td>\n",
              "      <td>A</td>\n",
              "      <td>B</td>\n",
              "      <td>B</td>\n",
              "      <td>B</td>\n",
              "      <td>A</td>\n",
              "    </tr>\n",
              "  </tbody>\n",
              "</table>\n",
              "<p>5 rows × 137 columns</p>\n",
              "</div>"
            ],
            "text/plain": [
              "  NU_INSCRICAO  NU_ANO  CO_MUNICIPIO_RESIDENCIA  ... Q025  Q026 Q027\n",
              "0  1,80008E+11    2018                  5300108  ...    A     B    A\n",
              "1  1,80007E+11    2018                  2111102  ...    A     A    A\n",
              "2  1,80009E+11    2018                  3530607  ...    B     A    A\n",
              "3  1,80008E+11    2018                  2916401  ...    B     A    A\n",
              "4  1,80009E+11    2018                  2918100  ...    B     B    A\n",
              "\n",
              "[5 rows x 137 columns]"
            ]
          },
          "metadata": {
            "tags": []
          },
          "execution_count": 2
        }
      ]
    },
    {
      "cell_type": "markdown",
      "metadata": {
        "id": "E6l3zNJ0CV9T",
        "colab_type": "text"
      },
      "source": [
        "## Exploratory Analysis"
      ]
    },
    {
      "cell_type": "markdown",
      "metadata": {
        "id": "aBh_Sne0C0kK",
        "colab_type": "text"
      },
      "source": [
        "Visualizando colunas do dataframe"
      ]
    },
    {
      "cell_type": "code",
      "metadata": {
        "id": "PyDnwyrVCVkE",
        "colab_type": "code",
        "outputId": "a4df9759-fcd7-481e-e3bd-fddfbc78fcaa",
        "colab": {
          "base_uri": "https://localhost:8080/",
          "height": 710
        }
      },
      "source": [
        "data_enem.columns.values"
      ],
      "execution_count": 0,
      "outputs": [
        {
          "output_type": "execute_result",
          "data": {
            "text/plain": [
              "array(['NU_INSCRICAO', 'NU_ANO', 'CO_MUNICIPIO_RESIDENCIA',\n",
              "       'NO_MUNICIPIO_RESIDENCIA', 'CO_UF_RESIDENCIA', 'SG_UF_RESIDENCIA',\n",
              "       'NU_IDADE', 'TP_SEXO', 'TP_ESTADO_CIVIL', 'TP_COR_RACA',\n",
              "       'TP_NACIONALIDADE', 'CO_MUNICIPIO_NASCIMENTO',\n",
              "       'NO_MUNICIPIO_NASCIMENTO', 'CO_UF_NASCIMENTO', 'SG_UF_NASCIMENTO',\n",
              "       'TP_ST_CONCLUSAO', 'TP_ANO_CONCLUIU', 'TP_ESCOLA', 'TP_ENSINO',\n",
              "       'IN_TREINEIRO', 'CO_ESCOLA', 'CO_MUNICIPIO_ESC',\n",
              "       'NO_MUNICIPIO_ESC', 'CO_UF_ESC', 'SG_UF_ESC',\n",
              "       'TP_DEPENDENCIA_ADM_ESC', 'TP_LOCALIZACAO_ESC', 'TP_SIT_FUNC_ESC',\n",
              "       'IN_BAIXA_VISAO', 'IN_CEGUEIRA', 'IN_SURDEZ',\n",
              "       'IN_DEFICIENCIA_AUDITIVA', 'IN_SURDO_CEGUEIRA',\n",
              "       'IN_DEFICIENCIA_FISICA', 'IN_DEFICIENCIA_MENTAL',\n",
              "       'IN_DEFICIT_ATENCAO', 'IN_DISLEXIA', 'IN_DISCALCULIA',\n",
              "       'IN_AUTISMO', 'IN_VISAO_MONOCULAR', 'IN_OUTRA_DEF', 'IN_GESTANTE',\n",
              "       'IN_LACTANTE', 'IN_IDOSO', 'IN_ESTUDA_CLASSE_HOSPITALAR',\n",
              "       'IN_SEM_RECURSO', 'IN_BRAILLE', 'IN_AMPLIADA_24', 'IN_AMPLIADA_18',\n",
              "       'IN_LEDOR', 'IN_ACESSO', 'IN_TRANSCRICAO', 'IN_LIBRAS',\n",
              "       'IN_LEITURA_LABIAL', 'IN_MESA_CADEIRA_RODAS',\n",
              "       'IN_MESA_CADEIRA_SEPARADA', 'IN_APOIO_PERNA', 'IN_GUIA_INTERPRETE',\n",
              "       'IN_COMPUTADOR', 'IN_CADEIRA_ESPECIAL', 'IN_CADEIRA_CANHOTO',\n",
              "       'IN_CADEIRA_ACOLCHOADA', 'IN_PROVA_DEITADO', 'IN_MOBILIARIO_OBESO',\n",
              "       'IN_LAMINA_OVERLAY', 'IN_PROTETOR_AURICULAR', 'IN_MEDIDOR_GLICOSE',\n",
              "       'IN_MAQUINA_BRAILE', 'IN_SOROBAN', 'IN_MARCA_PASSO', 'IN_SONDA',\n",
              "       'IN_MEDICAMENTOS', 'IN_SALA_INDIVIDUAL', 'IN_SALA_ESPECIAL',\n",
              "       'IN_SALA_ACOMPANHANTE', 'IN_MOBILIARIO_ESPECIFICO',\n",
              "       'IN_MATERIAL_ESPECIFICO', 'IN_NOME_SOCIAL', 'CO_MUNICIPIO_PROVA',\n",
              "       'NO_MUNICIPIO_PROVA', 'CO_UF_PROVA', 'SG_UF_PROVA',\n",
              "       'TP_PRESENCA_CN', 'TP_PRESENCA_CH', 'TP_PRESENCA_LC',\n",
              "       'TP_PRESENCA_MT', 'CO_PROVA_CN', 'CO_PROVA_CH', 'CO_PROVA_LC',\n",
              "       'CO_PROVA_MT', 'NU_NOTA_CN', 'NU_NOTA_CH', 'NU_NOTA_LC',\n",
              "       'NU_NOTA_MT', 'TX_RESPOSTAS_CN', 'TX_RESPOSTAS_CH',\n",
              "       'TX_RESPOSTAS_LC', 'TX_RESPOSTAS_MT', 'TP_LINGUA',\n",
              "       'TX_GABARITO_CN', 'TX_GABARITO_CH', 'TX_GABARITO_LC',\n",
              "       'TX_GABARITO_MT', 'TP_STATUS_REDACAO', 'NU_NOTA_COMP1',\n",
              "       'NU_NOTA_COMP2', 'NU_NOTA_COMP3', 'NU_NOTA_COMP4', 'NU_NOTA_COMP5',\n",
              "       'NU_NOTA_REDACAO', 'Q001', 'Q002', 'Q003', 'Q004', 'Q005', 'Q006',\n",
              "       'Q007', 'Q008', 'Q009', 'Q010', 'Q011', 'Q012', 'Q013', 'Q014',\n",
              "       'Q015', 'Q016', 'Q017', 'Q018', 'Q019', 'Q020', 'Q021', 'Q022',\n",
              "       'Q023', 'Q024', 'Q025', 'Q026', 'Q027'], dtype=object)"
            ]
          },
          "metadata": {
            "tags": []
          },
          "execution_count": 6
        }
      ]
    },
    {
      "cell_type": "markdown",
      "metadata": {
        "id": "gb9H3gNCDOEN",
        "colab_type": "text"
      },
      "source": [
        "Filtrando colunas"
      ]
    },
    {
      "cell_type": "code",
      "metadata": {
        "id": "D4TTdZTCDQDs",
        "colab_type": "code",
        "outputId": "8b600c65-babf-420f-eb2f-ff0a90f43b62",
        "colab": {
          "base_uri": "https://localhost:8080/",
          "height": 217
        }
      },
      "source": [
        "selected_columns = ['NO_MUNICIPIO_RESIDENCIA', 'SG_UF_RESIDENCIA',\n",
        "       'NU_IDADE', 'TP_SEXO', 'TP_ESTADO_CIVIL', 'TP_COR_RACA',\n",
        "       'TP_NACIONALIDADE', 'CO_MUNICIPIO_NASCIMENTO', 'SG_UF_NASCIMENTO',\n",
        "       'IN_BAIXA_VISAO', 'IN_CEGUEIRA', 'IN_SURDEZ',\n",
        "       'IN_DEFICIENCIA_AUDITIVA', 'IN_SURDO_CEGUEIRA',\n",
        "       'IN_DEFICIENCIA_FISICA', 'IN_DEFICIENCIA_MENTAL',\n",
        "       'IN_DEFICIT_ATENCAO', 'IN_DISLEXIA', 'IN_DISCALCULIA',\n",
        "       'IN_AUTISMO', 'IN_VISAO_MONOCULAR', 'IN_OUTRA_DEF', 'IN_GESTANTE',\n",
        "       'IN_LACTANTE', 'IN_IDOSO', 'IN_ESTUDA_CLASSE_HOSPITALAR',\n",
        "       'IN_SEM_RECURSO', 'IN_BRAILLE', 'IN_AMPLIADA_24', 'IN_AMPLIADA_18',\n",
        "       'IN_LEDOR', 'IN_ACESSO', 'IN_TRANSCRICAO', 'IN_LIBRAS',\n",
        "       'IN_LEITURA_LABIAL', 'IN_MESA_CADEIRA_RODAS',\n",
        "       'IN_MESA_CADEIRA_SEPARADA', 'IN_APOIO_PERNA', 'IN_GUIA_INTERPRETE',\n",
        "       'IN_COMPUTADOR', 'IN_CADEIRA_ESPECIAL', 'IN_CADEIRA_CANHOTO',\n",
        "       'IN_CADEIRA_ACOLCHOADA', 'IN_PROVA_DEITADO', 'IN_MOBILIARIO_OBESO',\n",
        "       'IN_LAMINA_OVERLAY', 'IN_PROTETOR_AURICULAR', 'IN_MEDIDOR_GLICOSE',\n",
        "       'IN_MAQUINA_BRAILE', 'IN_SOROBAN', 'IN_MARCA_PASSO', 'IN_SONDA',\n",
        "       'IN_MEDICAMENTOS', 'IN_SALA_INDIVIDUAL', 'IN_SALA_ESPECIAL',\n",
        "       'IN_SALA_ACOMPANHANTE', 'IN_MOBILIARIO_ESPECIFICO']\n",
        "\n",
        "selected_data_enem = data_enem.filter(items = selected_columns)\n",
        "selected_data_enem.head()"
      ],
      "execution_count": 0,
      "outputs": [
        {
          "output_type": "execute_result",
          "data": {
            "text/html": [
              "<div>\n",
              "<style scoped>\n",
              "    .dataframe tbody tr th:only-of-type {\n",
              "        vertical-align: middle;\n",
              "    }\n",
              "\n",
              "    .dataframe tbody tr th {\n",
              "        vertical-align: top;\n",
              "    }\n",
              "\n",
              "    .dataframe thead th {\n",
              "        text-align: right;\n",
              "    }\n",
              "</style>\n",
              "<table border=\"1\" class=\"dataframe\">\n",
              "  <thead>\n",
              "    <tr style=\"text-align: right;\">\n",
              "      <th></th>\n",
              "      <th>NO_MUNICIPIO_RESIDENCIA</th>\n",
              "      <th>SG_UF_RESIDENCIA</th>\n",
              "      <th>NU_IDADE</th>\n",
              "      <th>TP_SEXO</th>\n",
              "      <th>TP_ESTADO_CIVIL</th>\n",
              "      <th>TP_COR_RACA</th>\n",
              "      <th>TP_NACIONALIDADE</th>\n",
              "      <th>CO_MUNICIPIO_NASCIMENTO</th>\n",
              "      <th>SG_UF_NASCIMENTO</th>\n",
              "      <th>IN_BAIXA_VISAO</th>\n",
              "      <th>IN_CEGUEIRA</th>\n",
              "      <th>IN_SURDEZ</th>\n",
              "      <th>IN_DEFICIENCIA_AUDITIVA</th>\n",
              "      <th>IN_SURDO_CEGUEIRA</th>\n",
              "      <th>IN_DEFICIENCIA_FISICA</th>\n",
              "      <th>IN_DEFICIENCIA_MENTAL</th>\n",
              "      <th>IN_DEFICIT_ATENCAO</th>\n",
              "      <th>IN_DISLEXIA</th>\n",
              "      <th>IN_DISCALCULIA</th>\n",
              "      <th>IN_AUTISMO</th>\n",
              "      <th>IN_VISAO_MONOCULAR</th>\n",
              "      <th>IN_OUTRA_DEF</th>\n",
              "      <th>IN_GESTANTE</th>\n",
              "      <th>IN_LACTANTE</th>\n",
              "      <th>IN_IDOSO</th>\n",
              "      <th>IN_ESTUDA_CLASSE_HOSPITALAR</th>\n",
              "      <th>IN_SEM_RECURSO</th>\n",
              "      <th>IN_BRAILLE</th>\n",
              "      <th>IN_AMPLIADA_24</th>\n",
              "      <th>IN_AMPLIADA_18</th>\n",
              "      <th>IN_LEDOR</th>\n",
              "      <th>IN_ACESSO</th>\n",
              "      <th>IN_TRANSCRICAO</th>\n",
              "      <th>IN_LIBRAS</th>\n",
              "      <th>IN_LEITURA_LABIAL</th>\n",
              "      <th>IN_MESA_CADEIRA_RODAS</th>\n",
              "      <th>IN_MESA_CADEIRA_SEPARADA</th>\n",
              "      <th>IN_APOIO_PERNA</th>\n",
              "      <th>IN_GUIA_INTERPRETE</th>\n",
              "      <th>IN_COMPUTADOR</th>\n",
              "      <th>IN_CADEIRA_ESPECIAL</th>\n",
              "      <th>IN_CADEIRA_CANHOTO</th>\n",
              "      <th>IN_CADEIRA_ACOLCHOADA</th>\n",
              "      <th>IN_PROVA_DEITADO</th>\n",
              "      <th>IN_MOBILIARIO_OBESO</th>\n",
              "      <th>IN_LAMINA_OVERLAY</th>\n",
              "      <th>IN_PROTETOR_AURICULAR</th>\n",
              "      <th>IN_MEDIDOR_GLICOSE</th>\n",
              "      <th>IN_MAQUINA_BRAILE</th>\n",
              "      <th>IN_SOROBAN</th>\n",
              "      <th>IN_MARCA_PASSO</th>\n",
              "      <th>IN_SONDA</th>\n",
              "      <th>IN_MEDICAMENTOS</th>\n",
              "      <th>IN_SALA_INDIVIDUAL</th>\n",
              "      <th>IN_SALA_ESPECIAL</th>\n",
              "      <th>IN_SALA_ACOMPANHANTE</th>\n",
              "      <th>IN_MOBILIARIO_ESPECIFICO</th>\n",
              "    </tr>\n",
              "  </thead>\n",
              "  <tbody>\n",
              "    <tr>\n",
              "      <th>0</th>\n",
              "      <td>Brasília</td>\n",
              "      <td>DF</td>\n",
              "      <td>44</td>\n",
              "      <td>M</td>\n",
              "      <td>1.0</td>\n",
              "      <td>1</td>\n",
              "      <td>0</td>\n",
              "      <td>NaN</td>\n",
              "      <td>NaN</td>\n",
              "      <td>0</td>\n",
              "      <td>0</td>\n",
              "      <td>0</td>\n",
              "      <td>0</td>\n",
              "      <td>0</td>\n",
              "      <td>0</td>\n",
              "      <td>0</td>\n",
              "      <td>0</td>\n",
              "      <td>0</td>\n",
              "      <td>0</td>\n",
              "      <td>0</td>\n",
              "      <td>0</td>\n",
              "      <td>0</td>\n",
              "      <td>0</td>\n",
              "      <td>0</td>\n",
              "      <td>0</td>\n",
              "      <td>0</td>\n",
              "      <td>0</td>\n",
              "      <td>0</td>\n",
              "      <td>0</td>\n",
              "      <td>0</td>\n",
              "      <td>0</td>\n",
              "      <td>0</td>\n",
              "      <td>0</td>\n",
              "      <td>0</td>\n",
              "      <td>0</td>\n",
              "      <td>0</td>\n",
              "      <td>0</td>\n",
              "      <td>0</td>\n",
              "      <td>0</td>\n",
              "      <td>0</td>\n",
              "      <td>0</td>\n",
              "      <td>0</td>\n",
              "      <td>0</td>\n",
              "      <td>0</td>\n",
              "      <td>0</td>\n",
              "      <td>0</td>\n",
              "      <td>0</td>\n",
              "      <td>0</td>\n",
              "      <td>0</td>\n",
              "      <td>0</td>\n",
              "      <td>0</td>\n",
              "      <td>0</td>\n",
              "      <td>0</td>\n",
              "      <td>0</td>\n",
              "      <td>0</td>\n",
              "      <td>0</td>\n",
              "      <td>0</td>\n",
              "    </tr>\n",
              "    <tr>\n",
              "      <th>1</th>\n",
              "      <td>São João dos Patos</td>\n",
              "      <td>MA</td>\n",
              "      <td>23</td>\n",
              "      <td>F</td>\n",
              "      <td>0.0</td>\n",
              "      <td>3</td>\n",
              "      <td>1</td>\n",
              "      <td>2111102.0</td>\n",
              "      <td>MA</td>\n",
              "      <td>0</td>\n",
              "      <td>0</td>\n",
              "      <td>0</td>\n",
              "      <td>0</td>\n",
              "      <td>0</td>\n",
              "      <td>0</td>\n",
              "      <td>0</td>\n",
              "      <td>0</td>\n",
              "      <td>0</td>\n",
              "      <td>0</td>\n",
              "      <td>0</td>\n",
              "      <td>0</td>\n",
              "      <td>0</td>\n",
              "      <td>0</td>\n",
              "      <td>0</td>\n",
              "      <td>0</td>\n",
              "      <td>0</td>\n",
              "      <td>0</td>\n",
              "      <td>0</td>\n",
              "      <td>0</td>\n",
              "      <td>0</td>\n",
              "      <td>0</td>\n",
              "      <td>0</td>\n",
              "      <td>0</td>\n",
              "      <td>0</td>\n",
              "      <td>0</td>\n",
              "      <td>0</td>\n",
              "      <td>0</td>\n",
              "      <td>0</td>\n",
              "      <td>0</td>\n",
              "      <td>0</td>\n",
              "      <td>0</td>\n",
              "      <td>0</td>\n",
              "      <td>0</td>\n",
              "      <td>0</td>\n",
              "      <td>0</td>\n",
              "      <td>0</td>\n",
              "      <td>0</td>\n",
              "      <td>0</td>\n",
              "      <td>0</td>\n",
              "      <td>0</td>\n",
              "      <td>0</td>\n",
              "      <td>0</td>\n",
              "      <td>0</td>\n",
              "      <td>0</td>\n",
              "      <td>0</td>\n",
              "      <td>0</td>\n",
              "      <td>0</td>\n",
              "    </tr>\n",
              "    <tr>\n",
              "      <th>2</th>\n",
              "      <td>Mogi das Cruzes</td>\n",
              "      <td>SP</td>\n",
              "      <td>23</td>\n",
              "      <td>F</td>\n",
              "      <td>0.0</td>\n",
              "      <td>1</td>\n",
              "      <td>1</td>\n",
              "      <td>4209300.0</td>\n",
              "      <td>SC</td>\n",
              "      <td>0</td>\n",
              "      <td>0</td>\n",
              "      <td>0</td>\n",
              "      <td>0</td>\n",
              "      <td>0</td>\n",
              "      <td>0</td>\n",
              "      <td>0</td>\n",
              "      <td>0</td>\n",
              "      <td>0</td>\n",
              "      <td>0</td>\n",
              "      <td>0</td>\n",
              "      <td>0</td>\n",
              "      <td>0</td>\n",
              "      <td>0</td>\n",
              "      <td>0</td>\n",
              "      <td>0</td>\n",
              "      <td>0</td>\n",
              "      <td>0</td>\n",
              "      <td>0</td>\n",
              "      <td>0</td>\n",
              "      <td>0</td>\n",
              "      <td>0</td>\n",
              "      <td>0</td>\n",
              "      <td>0</td>\n",
              "      <td>0</td>\n",
              "      <td>0</td>\n",
              "      <td>0</td>\n",
              "      <td>0</td>\n",
              "      <td>0</td>\n",
              "      <td>0</td>\n",
              "      <td>0</td>\n",
              "      <td>0</td>\n",
              "      <td>0</td>\n",
              "      <td>0</td>\n",
              "      <td>0</td>\n",
              "      <td>0</td>\n",
              "      <td>0</td>\n",
              "      <td>0</td>\n",
              "      <td>0</td>\n",
              "      <td>0</td>\n",
              "      <td>0</td>\n",
              "      <td>0</td>\n",
              "      <td>0</td>\n",
              "      <td>0</td>\n",
              "      <td>0</td>\n",
              "      <td>0</td>\n",
              "      <td>0</td>\n",
              "      <td>0</td>\n",
              "    </tr>\n",
              "    <tr>\n",
              "      <th>3</th>\n",
              "      <td>Itapetinga</td>\n",
              "      <td>BA</td>\n",
              "      <td>26</td>\n",
              "      <td>F</td>\n",
              "      <td>0.0</td>\n",
              "      <td>3</td>\n",
              "      <td>2</td>\n",
              "      <td>NaN</td>\n",
              "      <td>NaN</td>\n",
              "      <td>0</td>\n",
              "      <td>0</td>\n",
              "      <td>0</td>\n",
              "      <td>0</td>\n",
              "      <td>0</td>\n",
              "      <td>0</td>\n",
              "      <td>0</td>\n",
              "      <td>0</td>\n",
              "      <td>0</td>\n",
              "      <td>0</td>\n",
              "      <td>0</td>\n",
              "      <td>0</td>\n",
              "      <td>0</td>\n",
              "      <td>0</td>\n",
              "      <td>0</td>\n",
              "      <td>0</td>\n",
              "      <td>0</td>\n",
              "      <td>0</td>\n",
              "      <td>0</td>\n",
              "      <td>0</td>\n",
              "      <td>0</td>\n",
              "      <td>0</td>\n",
              "      <td>0</td>\n",
              "      <td>0</td>\n",
              "      <td>0</td>\n",
              "      <td>0</td>\n",
              "      <td>0</td>\n",
              "      <td>0</td>\n",
              "      <td>0</td>\n",
              "      <td>0</td>\n",
              "      <td>0</td>\n",
              "      <td>0</td>\n",
              "      <td>0</td>\n",
              "      <td>0</td>\n",
              "      <td>0</td>\n",
              "      <td>0</td>\n",
              "      <td>0</td>\n",
              "      <td>0</td>\n",
              "      <td>0</td>\n",
              "      <td>0</td>\n",
              "      <td>0</td>\n",
              "      <td>0</td>\n",
              "      <td>0</td>\n",
              "      <td>0</td>\n",
              "      <td>0</td>\n",
              "      <td>0</td>\n",
              "      <td>0</td>\n",
              "      <td>0</td>\n",
              "    </tr>\n",
              "    <tr>\n",
              "      <th>4</th>\n",
              "      <td>Jeremoabo</td>\n",
              "      <td>BA</td>\n",
              "      <td>20</td>\n",
              "      <td>M</td>\n",
              "      <td>0.0</td>\n",
              "      <td>0</td>\n",
              "      <td>1</td>\n",
              "      <td>2800308.0</td>\n",
              "      <td>SE</td>\n",
              "      <td>0</td>\n",
              "      <td>0</td>\n",
              "      <td>0</td>\n",
              "      <td>0</td>\n",
              "      <td>0</td>\n",
              "      <td>0</td>\n",
              "      <td>0</td>\n",
              "      <td>0</td>\n",
              "      <td>0</td>\n",
              "      <td>0</td>\n",
              "      <td>0</td>\n",
              "      <td>0</td>\n",
              "      <td>0</td>\n",
              "      <td>0</td>\n",
              "      <td>0</td>\n",
              "      <td>0</td>\n",
              "      <td>0</td>\n",
              "      <td>0</td>\n",
              "      <td>0</td>\n",
              "      <td>0</td>\n",
              "      <td>0</td>\n",
              "      <td>0</td>\n",
              "      <td>0</td>\n",
              "      <td>0</td>\n",
              "      <td>0</td>\n",
              "      <td>0</td>\n",
              "      <td>0</td>\n",
              "      <td>0</td>\n",
              "      <td>0</td>\n",
              "      <td>0</td>\n",
              "      <td>0</td>\n",
              "      <td>0</td>\n",
              "      <td>0</td>\n",
              "      <td>0</td>\n",
              "      <td>0</td>\n",
              "      <td>0</td>\n",
              "      <td>0</td>\n",
              "      <td>0</td>\n",
              "      <td>0</td>\n",
              "      <td>0</td>\n",
              "      <td>0</td>\n",
              "      <td>0</td>\n",
              "      <td>0</td>\n",
              "      <td>0</td>\n",
              "      <td>0</td>\n",
              "      <td>0</td>\n",
              "      <td>0</td>\n",
              "      <td>0</td>\n",
              "    </tr>\n",
              "  </tbody>\n",
              "</table>\n",
              "</div>"
            ],
            "text/plain": [
              "  NO_MUNICIPIO_RESIDENCIA  ... IN_MOBILIARIO_ESPECIFICO\n",
              "0                Brasília  ...                        0\n",
              "1      São João dos Patos  ...                        0\n",
              "2         Mogi das Cruzes  ...                        0\n",
              "3              Itapetinga  ...                        0\n",
              "4               Jeremoabo  ...                        0\n",
              "\n",
              "[5 rows x 57 columns]"
            ]
          },
          "metadata": {
            "tags": []
          },
          "execution_count": 7
        }
      ]
    },
    {
      "cell_type": "markdown",
      "metadata": {
        "id": "7VOAYOovKdVj",
        "colab_type": "text"
      },
      "source": [
        "### County"
      ]
    },
    {
      "cell_type": "markdown",
      "metadata": {
        "id": "XGRr9pzqHIuY",
        "colab_type": "text"
      },
      "source": [
        "Analisando a coluna NO_MUNICIPIO_RESIDENCIA"
      ]
    },
    {
      "cell_type": "code",
      "metadata": {
        "id": "9MS82nznG-x5",
        "colab_type": "code",
        "outputId": "c5746fa8-895a-44a3-c172-29524462a8dc",
        "colab": {
          "base_uri": "https://localhost:8080/",
          "height": 230
        }
      },
      "source": [
        "column_no_municipio_residencia = selected_data_enem['NO_MUNICIPIO_RESIDENCIA']\n",
        "column_no_municipio_residencia"
      ],
      "execution_count": 0,
      "outputs": [
        {
          "output_type": "execute_result",
          "data": {
            "text/plain": [
              "0                Brasília\n",
              "1      São João dos Patos\n",
              "2         Mogi das Cruzes\n",
              "3              Itapetinga\n",
              "4               Jeremoabo\n",
              "              ...        \n",
              "994              São Luís\n",
              "995                Ubaíra\n",
              "996          Juiz de Fora\n",
              "997              Brasília\n",
              "998                Cacoal\n",
              "Name: NO_MUNICIPIO_RESIDENCIA, Length: 999, dtype: object"
            ]
          },
          "metadata": {
            "tags": []
          },
          "execution_count": 8
        }
      ]
    },
    {
      "cell_type": "markdown",
      "metadata": {
        "id": "LMggXsBRH0dc",
        "colab_type": "text"
      },
      "source": [
        "Verificando a distribuição de alunos por munícipio"
      ]
    },
    {
      "cell_type": "code",
      "metadata": {
        "id": "UK8wS8VjH4zy",
        "colab_type": "code",
        "outputId": "2f6a1a3d-7ecc-474c-a587-093618853f45",
        "colab": {
          "base_uri": "https://localhost:8080/",
          "height": 230
        }
      },
      "source": [
        "column_no_municipio_residencia.value_counts().sort_index()"
      ],
      "execution_count": 0,
      "outputs": [
        {
          "output_type": "execute_result",
          "data": {
            "text/plain": [
              "Abadia de Goiás        1\n",
              "Abaetetuba             2\n",
              "Acará                  1\n",
              "Alagoinhas             3\n",
              "Almirante Tamandaré    3\n",
              "                      ..\n",
              "Várzea Grande          2\n",
              "Várzea da Palma        1\n",
              "Xambioá                1\n",
              "Xique-Xique            1\n",
              "Água Branca            1\n",
              "Name: NO_MUNICIPIO_RESIDENCIA, Length: 485, dtype: int64"
            ]
          },
          "metadata": {
            "tags": []
          },
          "execution_count": 10
        }
      ]
    },
    {
      "cell_type": "markdown",
      "metadata": {
        "id": "URQaXJOIKn6T",
        "colab_type": "text"
      },
      "source": [
        "### AGE"
      ]
    },
    {
      "cell_type": "markdown",
      "metadata": {
        "id": "YbfQEXP2IxZg",
        "colab_type": "text"
      },
      "source": [
        "Analisando a coluna NU_IDADE\n",
        "\n",
        "Verificando a distribuição de alunos por idade"
      ]
    },
    {
      "cell_type": "code",
      "metadata": {
        "id": "Sv5zL-cfI1zd",
        "colab_type": "code",
        "outputId": "00eeae57-6b27-4dd3-fe27-6839a7943e21",
        "colab": {
          "base_uri": "https://localhost:8080/",
          "height": 727
        }
      },
      "source": [
        "column_nu_idade = selected_data_enem['NU_IDADE']\n",
        "column_nu_idade.value_counts().sort_index()"
      ],
      "execution_count": 0,
      "outputs": [
        {
          "output_type": "execute_result",
          "data": {
            "text/plain": [
              "15      3\n",
              "16     11\n",
              "17     85\n",
              "18    120\n",
              "19    107\n",
              "20     87\n",
              "21     76\n",
              "22     44\n",
              "23     52\n",
              "24     48\n",
              "25     44\n",
              "26     27\n",
              "27     31\n",
              "28     19\n",
              "29     37\n",
              "30     20\n",
              "31     17\n",
              "32     23\n",
              "33     14\n",
              "34     19\n",
              "35     18\n",
              "36      9\n",
              "37     12\n",
              "38     11\n",
              "39     14\n",
              "40      9\n",
              "41     10\n",
              "42      5\n",
              "43      4\n",
              "44      4\n",
              "45      2\n",
              "46      4\n",
              "47      4\n",
              "48      2\n",
              "53      1\n",
              "54      1\n",
              "56      3\n",
              "57      1\n",
              "59      1\n",
              "Name: NU_IDADE, dtype: int64"
            ]
          },
          "metadata": {
            "tags": []
          },
          "execution_count": 25
        }
      ]
    },
    {
      "cell_type": "markdown",
      "metadata": {
        "id": "zkypwkBVJz8p",
        "colab_type": "text"
      },
      "source": [
        "Gerando um histograma dos dados de idade"
      ]
    },
    {
      "cell_type": "code",
      "metadata": {
        "id": "io4TroWTJ5Ch",
        "colab_type": "code",
        "outputId": "b85ad6c4-a10c-4120-b3ab-0e3889ea2070",
        "colab": {
          "base_uri": "https://localhost:8080/",
          "height": 282
        }
      },
      "source": [
        "column_nu_idade.hist(bins=20)"
      ],
      "execution_count": 0,
      "outputs": [
        {
          "output_type": "execute_result",
          "data": {
            "text/plain": [
              "<matplotlib.axes._subplots.AxesSubplot at 0x7f9a56afdd30>"
            ]
          },
          "metadata": {
            "tags": []
          },
          "execution_count": 20
        },
        {
          "output_type": "display_data",
          "data": {
            "image/png": "[encoded data removed]",
            "text/plain": [
              "<Figure size 432x288 with 1 Axes>"
            ]
          },
          "metadata": {
            "tags": [],
            "needs_background": "light"
          }
        }
      ]
    },
    {
      "cell_type": "markdown",
      "metadata": {
        "id": "gVCSNjLrLI4g",
        "colab_type": "text"
      },
      "source": [
        "### Residences"
      ]
    },
    {
      "cell_type": "markdown",
      "metadata": {
        "id": "o0-hu2A8LjUs",
        "colab_type": "text"
      },
      "source": [
        "Analisando a coluna SG_UF_RESIDENCIA\n",
        "\n",
        "Verificando distribuição de residencias"
      ]
    },
    {
      "cell_type": "code",
      "metadata": {
        "id": "0S_kNI5rLcq9",
        "colab_type": "code",
        "outputId": "460cb4b8-ec09-4e36-d477-afa2f58b7978",
        "colab": {
          "base_uri": "https://localhost:8080/",
          "height": 514
        }
      },
      "source": [
        "column_sg_uf_residencia = selected_data_enem['SG_UF_RESIDENCIA']\n",
        "column_sg_uf_residencia.value_counts().sort_index()"
      ],
      "execution_count": 0,
      "outputs": [
        {
          "output_type": "execute_result",
          "data": {
            "text/plain": [
              "AC      3\n",
              "AL     12\n",
              "AM     22\n",
              "AP     11\n",
              "BA     87\n",
              "CE     71\n",
              "DF     28\n",
              "ES     22\n",
              "GO     32\n",
              "MA     42\n",
              "MG     93\n",
              "MS     21\n",
              "MT     27\n",
              "PA     39\n",
              "PB     23\n",
              "PE     59\n",
              "PI     26\n",
              "PR     41\n",
              "RJ     53\n",
              "RN     20\n",
              "RO     16\n",
              "RR      6\n",
              "RS     39\n",
              "SC     18\n",
              "SE     13\n",
              "SP    163\n",
              "TO     12\n",
              "Name: SG_UF_RESIDENCIA, dtype: int64"
            ]
          },
          "metadata": {
            "tags": []
          },
          "execution_count": 26
        }
      ]
    },
    {
      "cell_type": "markdown",
      "metadata": {
        "id": "yCoHNi5lmkoe",
        "colab_type": "text"
      },
      "source": [
        "### Qual gênero mais fez o ENEM em 2018?"
      ]
    },
    {
      "cell_type": "markdown",
      "metadata": {
        "id": "o4rj7N-HnP1L",
        "colab_type": "text"
      },
      "source": [
        "Verificando quantos de cada gênero fizeram o ENEM em 2018 dentro do dataframe"
      ]
    },
    {
      "cell_type": "code",
      "metadata": {
        "id": "4rKY9mqvmv6M",
        "colab_type": "code",
        "outputId": "d3967be6-2134-499a-b4a3-f394fcb9cc0b",
        "colab": {
          "base_uri": "https://localhost:8080/",
          "height": 70
        }
      },
      "source": [
        "selected_columns_tp_sexo = selected_data_enem['TP_SEXO']\n",
        "dist_tp_sexo = selected_columns_tp_sexo.value_counts()\n",
        "dist_tp_sexo"
      ],
      "execution_count": 0,
      "outputs": [
        {
          "output_type": "execute_result",
          "data": {
            "text/plain": [
              "F    660\n",
              "M    339\n",
              "Name: TP_SEXO, dtype: int64"
            ]
          },
          "metadata": {
            "tags": []
          },
          "execution_count": 126
        }
      ]
    },
    {
      "cell_type": "markdown",
      "metadata": {
        "id": "criJb7EsnM7l",
        "colab_type": "text"
      },
      "source": [
        "Transformando em porcentagem"
      ]
    },
    {
      "cell_type": "code",
      "metadata": {
        "id": "p-WbfJWmneZ4",
        "colab_type": "code",
        "outputId": "6a10a900-cbeb-4e33-e680-a45996fb5d07",
        "colab": {
          "base_uri": "https://localhost:8080/",
          "height": 34
        }
      },
      "source": [
        "porcent_tp_sexo = [100 * x / dist_tp_sexo.sum() for x in dist_tp_sexo]\n",
        "porcent_tp_sexo"
      ],
      "execution_count": 0,
      "outputs": [
        {
          "output_type": "execute_result",
          "data": {
            "text/plain": [
              "[66.06606606606607, 33.933933933933936]"
            ]
          },
          "metadata": {
            "tags": []
          },
          "execution_count": 129
        }
      ]
    },
    {
      "cell_type": "markdown",
      "metadata": {
        "id": "Nk1giZw5M6Of",
        "colab_type": "text"
      },
      "source": [
        "### Qual a porcentagem de gestantes no Enem 2018?"
      ]
    },
    {
      "cell_type": "markdown",
      "metadata": {
        "id": "DqGvC0XTP4uc",
        "colab_type": "text"
      },
      "source": [
        "Reduzindo as colunas"
      ]
    },
    {
      "cell_type": "code",
      "metadata": {
        "id": "XfNFxvDrP3X9",
        "colab_type": "code",
        "outputId": "486df30e-f2b4-4b92-b737-25663f538d73",
        "colab": {
          "base_uri": "https://localhost:8080/",
          "height": 406
        }
      },
      "source": [
        "selected_columns_tp_sexo_and_in_gestante = ['IN_GESTANTE', 'TP_SEXO']\n",
        "selected_columns_tp_sexo_and_in_gestante = selected_data_enem.filter(items = selected_columns_tp_sexo_and_in_gestante)\n",
        "selected_columns_tp_sexo_and_in_gestante"
      ],
      "execution_count": 0,
      "outputs": [
        {
          "output_type": "execute_result",
          "data": {
            "text/html": [
              "<div>\n",
              "<style scoped>\n",
              "    .dataframe tbody tr th:only-of-type {\n",
              "        vertical-align: middle;\n",
              "    }\n",
              "\n",
              "    .dataframe tbody tr th {\n",
              "        vertical-align: top;\n",
              "    }\n",
              "\n",
              "    .dataframe thead th {\n",
              "        text-align: right;\n",
              "    }\n",
              "</style>\n",
              "<table border=\"1\" class=\"dataframe\">\n",
              "  <thead>\n",
              "    <tr style=\"text-align: right;\">\n",
              "      <th></th>\n",
              "      <th>IN_GESTANTE</th>\n",
              "      <th>TP_SEXO</th>\n",
              "    </tr>\n",
              "  </thead>\n",
              "  <tbody>\n",
              "    <tr>\n",
              "      <th>0</th>\n",
              "      <td>0</td>\n",
              "      <td>M</td>\n",
              "    </tr>\n",
              "    <tr>\n",
              "      <th>1</th>\n",
              "      <td>0</td>\n",
              "      <td>F</td>\n",
              "    </tr>\n",
              "    <tr>\n",
              "      <th>2</th>\n",
              "      <td>0</td>\n",
              "      <td>F</td>\n",
              "    </tr>\n",
              "    <tr>\n",
              "      <th>3</th>\n",
              "      <td>0</td>\n",
              "      <td>F</td>\n",
              "    </tr>\n",
              "    <tr>\n",
              "      <th>4</th>\n",
              "      <td>0</td>\n",
              "      <td>M</td>\n",
              "    </tr>\n",
              "    <tr>\n",
              "      <th>...</th>\n",
              "      <td>...</td>\n",
              "      <td>...</td>\n",
              "    </tr>\n",
              "    <tr>\n",
              "      <th>994</th>\n",
              "      <td>0</td>\n",
              "      <td>F</td>\n",
              "    </tr>\n",
              "    <tr>\n",
              "      <th>995</th>\n",
              "      <td>0</td>\n",
              "      <td>F</td>\n",
              "    </tr>\n",
              "    <tr>\n",
              "      <th>996</th>\n",
              "      <td>0</td>\n",
              "      <td>F</td>\n",
              "    </tr>\n",
              "    <tr>\n",
              "      <th>997</th>\n",
              "      <td>0</td>\n",
              "      <td>M</td>\n",
              "    </tr>\n",
              "    <tr>\n",
              "      <th>998</th>\n",
              "      <td>0</td>\n",
              "      <td>F</td>\n",
              "    </tr>\n",
              "  </tbody>\n",
              "</table>\n",
              "<p>999 rows × 2 columns</p>\n",
              "</div>"
            ],
            "text/plain": [
              "     IN_GESTANTE TP_SEXO\n",
              "0              0       M\n",
              "1              0       F\n",
              "2              0       F\n",
              "3              0       F\n",
              "4              0       M\n",
              "..           ...     ...\n",
              "994            0       F\n",
              "995            0       F\n",
              "996            0       F\n",
              "997            0       M\n",
              "998            0       F\n",
              "\n",
              "[999 rows x 2 columns]"
            ]
          },
          "metadata": {
            "tags": []
          },
          "execution_count": 109
        }
      ]
    },
    {
      "cell_type": "markdown",
      "metadata": {
        "id": "Sb3uw7XQRsjE",
        "colab_type": "text"
      },
      "source": [
        "Removendo o sexo masculino"
      ]
    },
    {
      "cell_type": "code",
      "metadata": {
        "id": "RGiO5kv_RwRx",
        "colab_type": "code",
        "outputId": "54429243-7840-450f-9cf1-38ff24b36b44",
        "colab": {
          "base_uri": "https://localhost:8080/",
          "height": 406
        }
      },
      "source": [
        "woman_only = selected_columns_tp_sexo_and_in_gestante['TP_SEXO'] == 'F'\n",
        "selected_woman_only = selected_columns_tp_sexo_and_in_gestante[woman_only]\n",
        "selected_woman_only"
      ],
      "execution_count": 0,
      "outputs": [
        {
          "output_type": "execute_result",
          "data": {
            "text/html": [
              "<div>\n",
              "<style scoped>\n",
              "    .dataframe tbody tr th:only-of-type {\n",
              "        vertical-align: middle;\n",
              "    }\n",
              "\n",
              "    .dataframe tbody tr th {\n",
              "        vertical-align: top;\n",
              "    }\n",
              "\n",
              "    .dataframe thead th {\n",
              "        text-align: right;\n",
              "    }\n",
              "</style>\n",
              "<table border=\"1\" class=\"dataframe\">\n",
              "  <thead>\n",
              "    <tr style=\"text-align: right;\">\n",
              "      <th></th>\n",
              "      <th>IN_GESTANTE</th>\n",
              "      <th>TP_SEXO</th>\n",
              "    </tr>\n",
              "  </thead>\n",
              "  <tbody>\n",
              "    <tr>\n",
              "      <th>1</th>\n",
              "      <td>0</td>\n",
              "      <td>F</td>\n",
              "    </tr>\n",
              "    <tr>\n",
              "      <th>2</th>\n",
              "      <td>0</td>\n",
              "      <td>F</td>\n",
              "    </tr>\n",
              "    <tr>\n",
              "      <th>3</th>\n",
              "      <td>0</td>\n",
              "      <td>F</td>\n",
              "    </tr>\n",
              "    <tr>\n",
              "      <th>5</th>\n",
              "      <td>0</td>\n",
              "      <td>F</td>\n",
              "    </tr>\n",
              "    <tr>\n",
              "      <th>6</th>\n",
              "      <td>0</td>\n",
              "      <td>F</td>\n",
              "    </tr>\n",
              "    <tr>\n",
              "      <th>...</th>\n",
              "      <td>...</td>\n",
              "      <td>...</td>\n",
              "    </tr>\n",
              "    <tr>\n",
              "      <th>992</th>\n",
              "      <td>0</td>\n",
              "      <td>F</td>\n",
              "    </tr>\n",
              "    <tr>\n",
              "      <th>994</th>\n",
              "      <td>0</td>\n",
              "      <td>F</td>\n",
              "    </tr>\n",
              "    <tr>\n",
              "      <th>995</th>\n",
              "      <td>0</td>\n",
              "      <td>F</td>\n",
              "    </tr>\n",
              "    <tr>\n",
              "      <th>996</th>\n",
              "      <td>0</td>\n",
              "      <td>F</td>\n",
              "    </tr>\n",
              "    <tr>\n",
              "      <th>998</th>\n",
              "      <td>0</td>\n",
              "      <td>F</td>\n",
              "    </tr>\n",
              "  </tbody>\n",
              "</table>\n",
              "<p>660 rows × 2 columns</p>\n",
              "</div>"
            ],
            "text/plain": [
              "     IN_GESTANTE TP_SEXO\n",
              "1              0       F\n",
              "2              0       F\n",
              "3              0       F\n",
              "5              0       F\n",
              "6              0       F\n",
              "..           ...     ...\n",
              "992            0       F\n",
              "994            0       F\n",
              "995            0       F\n",
              "996            0       F\n",
              "998            0       F\n",
              "\n",
              "[660 rows x 2 columns]"
            ]
          },
          "metadata": {
            "tags": []
          },
          "execution_count": 114
        }
      ]
    },
    {
      "cell_type": "markdown",
      "metadata": {
        "id": "LszDOYcIkAPA",
        "colab_type": "text"
      },
      "source": [
        "Verificando as gestantes"
      ]
    },
    {
      "cell_type": "code",
      "metadata": {
        "id": "YezCLY6WkGQF",
        "colab_type": "code",
        "colab": {}
      },
      "source": [
        "selected_column_in_gestante = selected_woman_only['IN_GESTANTE']\n",
        "dist_in_gestante = selected_column_in_gestante.value_counts()"
      ],
      "execution_count": 0,
      "outputs": []
    },
    {
      "cell_type": "markdown",
      "metadata": {
        "id": "xRj3Td-7l0PE",
        "colab_type": "text"
      },
      "source": [
        "Calculando a porcentagem de gestantes"
      ]
    },
    {
      "cell_type": "code",
      "metadata": {
        "id": "8GKerxewl7Mm",
        "colab_type": "code",
        "outputId": "5729f303-15f5-4e99-fada-ae89457a87ca",
        "colab": {
          "base_uri": "https://localhost:8080/",
          "height": 34
        }
      },
      "source": [
        "porcent_in_gestante = [100 * x / dist_in_gestante.sum() for x in dist_in_gestante]\n",
        "porcent_in_gestante"
      ],
      "execution_count": 0,
      "outputs": [
        {
          "output_type": "execute_result",
          "data": {
            "text/plain": [
              "[99.84848484848484, 0.15151515151515152]"
            ]
          },
          "metadata": {
            "tags": []
          },
          "execution_count": 120
        }
      ]
    },
    {
      "cell_type": "markdown",
      "metadata": {
        "id": "sMEXoyhHtEtb",
        "colab_type": "text"
      },
      "source": [
        "## Quem escreveu melhor no ENEM 2018? O sexo **masculino** ou **feminino**?"
      ]
    },
    {
      "cell_type": "markdown",
      "metadata": {
        "id": "jyNRTN1rtpPm",
        "colab_type": "text"
      },
      "source": [
        "Filtrando dados do dataframe"
      ]
    },
    {
      "cell_type": "code",
      "metadata": {
        "id": "eW8OJ46DtbZ7",
        "colab_type": "code",
        "colab": {
          "base_uri": "https://localhost:8080/",
          "height": 197
        },
        "outputId": "36d4b533-56ab-4bad-d37e-0f0ab800a89b"
      },
      "source": [
        "selected_columns_tp_sexo_and_nu_nota_redacao = data_enem.filter(items=['TP_SEXO', 'NU_NOTA_REDACAO'])\n",
        "selected_columns_tp_sexo_and_nu_nota_redacao.head()"
      ],
      "execution_count": 3,
      "outputs": [
        {
          "output_type": "execute_result",
          "data": {
            "text/html": [
              "<div>\n",
              "<style scoped>\n",
              "    .dataframe tbody tr th:only-of-type {\n",
              "        vertical-align: middle;\n",
              "    }\n",
              "\n",
              "    .dataframe tbody tr th {\n",
              "        vertical-align: top;\n",
              "    }\n",
              "\n",
              "    .dataframe thead th {\n",
              "        text-align: right;\n",
              "    }\n",
              "</style>\n",
              "<table border=\"1\" class=\"dataframe\">\n",
              "  <thead>\n",
              "    <tr style=\"text-align: right;\">\n",
              "      <th></th>\n",
              "      <th>TP_SEXO</th>\n",
              "      <th>NU_NOTA_REDACAO</th>\n",
              "    </tr>\n",
              "  </thead>\n",
              "  <tbody>\n",
              "    <tr>\n",
              "      <th>0</th>\n",
              "      <td>M</td>\n",
              "      <td>NaN</td>\n",
              "    </tr>\n",
              "    <tr>\n",
              "      <th>1</th>\n",
              "      <td>F</td>\n",
              "      <td>280.0</td>\n",
              "    </tr>\n",
              "    <tr>\n",
              "      <th>2</th>\n",
              "      <td>F</td>\n",
              "      <td>NaN</td>\n",
              "    </tr>\n",
              "    <tr>\n",
              "      <th>3</th>\n",
              "      <td>F</td>\n",
              "      <td>NaN</td>\n",
              "    </tr>\n",
              "    <tr>\n",
              "      <th>4</th>\n",
              "      <td>M</td>\n",
              "      <td>360.0</td>\n",
              "    </tr>\n",
              "  </tbody>\n",
              "</table>\n",
              "</div>"
            ],
            "text/plain": [
              "  TP_SEXO  NU_NOTA_REDACAO\n",
              "0       M              NaN\n",
              "1       F            280.0\n",
              "2       F              NaN\n",
              "3       F              NaN\n",
              "4       M            360.0"
            ]
          },
          "metadata": {
            "tags": []
          },
          "execution_count": 3
        }
      ]
    },
    {
      "cell_type": "markdown",
      "metadata": {
        "id": "BYGtu0d0vTCw",
        "colab_type": "text"
      },
      "source": [
        "Removendo NaN do dataframe"
      ]
    },
    {
      "cell_type": "code",
      "metadata": {
        "id": "s1r3U51rvaAV",
        "colab_type": "code",
        "colab": {
          "base_uri": "https://localhost:8080/",
          "height": 197
        },
        "outputId": "0b46344a-e2c3-4837-be48-26bbb164c39f"
      },
      "source": [
        "selected_columns_tp_sexo_and_nu_nota_redacao = selected_columns_tp_sexo_and_nu_nota_redacao.dropna()\n",
        "selected_columns_tp_sexo_and_nu_nota_redacao.head()"
      ],
      "execution_count": 4,
      "outputs": [
        {
          "output_type": "execute_result",
          "data": {
            "text/html": [
              "<div>\n",
              "<style scoped>\n",
              "    .dataframe tbody tr th:only-of-type {\n",
              "        vertical-align: middle;\n",
              "    }\n",
              "\n",
              "    .dataframe tbody tr th {\n",
              "        vertical-align: top;\n",
              "    }\n",
              "\n",
              "    .dataframe thead th {\n",
              "        text-align: right;\n",
              "    }\n",
              "</style>\n",
              "<table border=\"1\" class=\"dataframe\">\n",
              "  <thead>\n",
              "    <tr style=\"text-align: right;\">\n",
              "      <th></th>\n",
              "      <th>TP_SEXO</th>\n",
              "      <th>NU_NOTA_REDACAO</th>\n",
              "    </tr>\n",
              "  </thead>\n",
              "  <tbody>\n",
              "    <tr>\n",
              "      <th>1</th>\n",
              "      <td>F</td>\n",
              "      <td>280.0</td>\n",
              "    </tr>\n",
              "    <tr>\n",
              "      <th>4</th>\n",
              "      <td>M</td>\n",
              "      <td>360.0</td>\n",
              "    </tr>\n",
              "    <tr>\n",
              "      <th>5</th>\n",
              "      <td>F</td>\n",
              "      <td>580.0</td>\n",
              "    </tr>\n",
              "    <tr>\n",
              "      <th>7</th>\n",
              "      <td>M</td>\n",
              "      <td>680.0</td>\n",
              "    </tr>\n",
              "    <tr>\n",
              "      <th>8</th>\n",
              "      <td>M</td>\n",
              "      <td>340.0</td>\n",
              "    </tr>\n",
              "  </tbody>\n",
              "</table>\n",
              "</div>"
            ],
            "text/plain": [
              "  TP_SEXO  NU_NOTA_REDACAO\n",
              "1       F            280.0\n",
              "4       M            360.0\n",
              "5       F            580.0\n",
              "7       M            680.0\n",
              "8       M            340.0"
            ]
          },
          "metadata": {
            "tags": []
          },
          "execution_count": 4
        }
      ]
    },
    {
      "cell_type": "markdown",
      "metadata": {
        "id": "DH-gXMtBvlJ0",
        "colab_type": "text"
      },
      "source": [
        "**GROUPBY**\n",
        "\n",
        "_no português **AGRUPAR POR**_\n",
        "\n",
        "> É utilizado para formar grupos de acordo com um valor específico.**bold text**"
      ]
    },
    {
      "cell_type": "markdown",
      "metadata": {
        "id": "YUy-kbjCwuVE",
        "colab_type": "text"
      },
      "source": [
        "Agrupando por TP_SEXO"
      ]
    },
    {
      "cell_type": "code",
      "metadata": {
        "id": "W2sczrkzvqyD",
        "colab_type": "code",
        "colab": {
          "base_uri": "https://localhost:8080/",
          "height": 137
        },
        "outputId": "b48c0308-4aff-4865-fca1-2f1cc9199d6c"
      },
      "source": [
        "selected_columns_tp_sexo_and_nu_nota_redacao.groupby('TP_SEXO').count()"
      ],
      "execution_count": 5,
      "outputs": [
        {
          "output_type": "execute_result",
          "data": {
            "text/html": [
              "<div>\n",
              "<style scoped>\n",
              "    .dataframe tbody tr th:only-of-type {\n",
              "        vertical-align: middle;\n",
              "    }\n",
              "\n",
              "    .dataframe tbody tr th {\n",
              "        vertical-align: top;\n",
              "    }\n",
              "\n",
              "    .dataframe thead th {\n",
              "        text-align: right;\n",
              "    }\n",
              "</style>\n",
              "<table border=\"1\" class=\"dataframe\">\n",
              "  <thead>\n",
              "    <tr style=\"text-align: right;\">\n",
              "      <th></th>\n",
              "      <th>NU_NOTA_REDACAO</th>\n",
              "    </tr>\n",
              "    <tr>\n",
              "      <th>TP_SEXO</th>\n",
              "      <th></th>\n",
              "    </tr>\n",
              "  </thead>\n",
              "  <tbody>\n",
              "    <tr>\n",
              "      <th>F</th>\n",
              "      <td>481</td>\n",
              "    </tr>\n",
              "    <tr>\n",
              "      <th>M</th>\n",
              "      <td>236</td>\n",
              "    </tr>\n",
              "  </tbody>\n",
              "</table>\n",
              "</div>"
            ],
            "text/plain": [
              "         NU_NOTA_REDACAO\n",
              "TP_SEXO                 \n",
              "F                    481\n",
              "M                    236"
            ]
          },
          "metadata": {
            "tags": []
          },
          "execution_count": 5
        }
      ]
    },
    {
      "cell_type": "markdown",
      "metadata": {
        "id": "9lWLzYuowgqn",
        "colab_type": "text"
      },
      "source": [
        "### Será que a nota máxima é a mesma para homens e mulheres?"
      ]
    },
    {
      "cell_type": "code",
      "metadata": {
        "id": "Ksg7vnfhwny3",
        "colab_type": "code",
        "colab": {
          "base_uri": "https://localhost:8080/",
          "height": 137
        },
        "outputId": "414afef8-469c-4148-e658-4064aa83efc4"
      },
      "source": [
        "selected_columns_tp_sexo_and_nu_nota_redacao.groupby('TP_SEXO').max()"
      ],
      "execution_count": 6,
      "outputs": [
        {
          "output_type": "execute_result",
          "data": {
            "text/html": [
              "<div>\n",
              "<style scoped>\n",
              "    .dataframe tbody tr th:only-of-type {\n",
              "        vertical-align: middle;\n",
              "    }\n",
              "\n",
              "    .dataframe tbody tr th {\n",
              "        vertical-align: top;\n",
              "    }\n",
              "\n",
              "    .dataframe thead th {\n",
              "        text-align: right;\n",
              "    }\n",
              "</style>\n",
              "<table border=\"1\" class=\"dataframe\">\n",
              "  <thead>\n",
              "    <tr style=\"text-align: right;\">\n",
              "      <th></th>\n",
              "      <th>NU_NOTA_REDACAO</th>\n",
              "    </tr>\n",
              "    <tr>\n",
              "      <th>TP_SEXO</th>\n",
              "      <th></th>\n",
              "    </tr>\n",
              "  </thead>\n",
              "  <tbody>\n",
              "    <tr>\n",
              "      <th>F</th>\n",
              "      <td>960.0</td>\n",
              "    </tr>\n",
              "    <tr>\n",
              "      <th>M</th>\n",
              "      <td>960.0</td>\n",
              "    </tr>\n",
              "  </tbody>\n",
              "</table>\n",
              "</div>"
            ],
            "text/plain": [
              "         NU_NOTA_REDACAO\n",
              "TP_SEXO                 \n",
              "F                  960.0\n",
              "M                  960.0"
            ]
          },
          "metadata": {
            "tags": []
          },
          "execution_count": 6
        }
      ]
    },
    {
      "cell_type": "markdown",
      "metadata": {
        "id": "SrDvYXqHw9HU",
        "colab_type": "text"
      },
      "source": [
        "### Será que a nota mínima é a mesma para homens e mulheres?"
      ]
    },
    {
      "cell_type": "code",
      "metadata": {
        "id": "WU9AflYWxDBb",
        "colab_type": "code",
        "colab": {
          "base_uri": "https://localhost:8080/",
          "height": 137
        },
        "outputId": "5158ddf9-7ff7-4a64-e50c-586da81973c4"
      },
      "source": [
        "selected_columns_tp_sexo_and_nu_nota_redacao.groupby('TP_SEXO').min()"
      ],
      "execution_count": 7,
      "outputs": [
        {
          "output_type": "execute_result",
          "data": {
            "text/html": [
              "<div>\n",
              "<style scoped>\n",
              "    .dataframe tbody tr th:only-of-type {\n",
              "        vertical-align: middle;\n",
              "    }\n",
              "\n",
              "    .dataframe tbody tr th {\n",
              "        vertical-align: top;\n",
              "    }\n",
              "\n",
              "    .dataframe thead th {\n",
              "        text-align: right;\n",
              "    }\n",
              "</style>\n",
              "<table border=\"1\" class=\"dataframe\">\n",
              "  <thead>\n",
              "    <tr style=\"text-align: right;\">\n",
              "      <th></th>\n",
              "      <th>NU_NOTA_REDACAO</th>\n",
              "    </tr>\n",
              "    <tr>\n",
              "      <th>TP_SEXO</th>\n",
              "      <th></th>\n",
              "    </tr>\n",
              "  </thead>\n",
              "  <tbody>\n",
              "    <tr>\n",
              "      <th>F</th>\n",
              "      <td>0.0</td>\n",
              "    </tr>\n",
              "    <tr>\n",
              "      <th>M</th>\n",
              "      <td>0.0</td>\n",
              "    </tr>\n",
              "  </tbody>\n",
              "</table>\n",
              "</div>"
            ],
            "text/plain": [
              "         NU_NOTA_REDACAO\n",
              "TP_SEXO                 \n",
              "F                    0.0\n",
              "M                    0.0"
            ]
          },
          "metadata": {
            "tags": []
          },
          "execution_count": 7
        }
      ]
    },
    {
      "cell_type": "markdown",
      "metadata": {
        "id": "_TRjAZxuxRIx",
        "colab_type": "text"
      },
      "source": [
        "### Qual é a **menor** notar (maior que zero) de ambos os sexos?"
      ]
    },
    {
      "cell_type": "code",
      "metadata": {
        "id": "vAgUMrYrxsPn",
        "colab_type": "code",
        "colab": {
          "base_uri": "https://localhost:8080/",
          "height": 137
        },
        "outputId": "43f30d0c-837d-42a1-dbe2-59dad2d0daba"
      },
      "source": [
        "selected_columns_tp_sexo_and_nu_nota_redacao[selected_columns_tp_sexo_and_nu_nota_redacao.NU_NOTA_REDACAO > 0].groupby('TP_SEXO').min()"
      ],
      "execution_count": 8,
      "outputs": [
        {
          "output_type": "execute_result",
          "data": {
            "text/html": [
              "<div>\n",
              "<style scoped>\n",
              "    .dataframe tbody tr th:only-of-type {\n",
              "        vertical-align: middle;\n",
              "    }\n",
              "\n",
              "    .dataframe tbody tr th {\n",
              "        vertical-align: top;\n",
              "    }\n",
              "\n",
              "    .dataframe thead th {\n",
              "        text-align: right;\n",
              "    }\n",
              "</style>\n",
              "<table border=\"1\" class=\"dataframe\">\n",
              "  <thead>\n",
              "    <tr style=\"text-align: right;\">\n",
              "      <th></th>\n",
              "      <th>NU_NOTA_REDACAO</th>\n",
              "    </tr>\n",
              "    <tr>\n",
              "      <th>TP_SEXO</th>\n",
              "      <th></th>\n",
              "    </tr>\n",
              "  </thead>\n",
              "  <tbody>\n",
              "    <tr>\n",
              "      <th>F</th>\n",
              "      <td>220.0</td>\n",
              "    </tr>\n",
              "    <tr>\n",
              "      <th>M</th>\n",
              "      <td>240.0</td>\n",
              "    </tr>\n",
              "  </tbody>\n",
              "</table>\n",
              "</div>"
            ],
            "text/plain": [
              "         NU_NOTA_REDACAO\n",
              "TP_SEXO                 \n",
              "F                  220.0\n",
              "M                  240.0"
            ]
          },
          "metadata": {
            "tags": []
          },
          "execution_count": 8
        }
      ]
    },
    {
      "cell_type": "markdown",
      "metadata": {
        "id": "4a_rnqz3yLaM",
        "colab_type": "text"
      },
      "source": [
        "### Qual é a **média** de notas de ambos os sexos?"
      ]
    },
    {
      "cell_type": "code",
      "metadata": {
        "id": "VYscopLQyQaE",
        "colab_type": "code",
        "colab": {
          "base_uri": "https://localhost:8080/",
          "height": 137
        },
        "outputId": "bacd0ee9-1245-425a-f209-57bbfd4a5b9e"
      },
      "source": [
        "selected_columns_tp_sexo_and_nu_nota_redacao.groupby('TP_SEXO').mean()"
      ],
      "execution_count": 9,
      "outputs": [
        {
          "output_type": "execute_result",
          "data": {
            "text/html": [
              "<div>\n",
              "<style scoped>\n",
              "    .dataframe tbody tr th:only-of-type {\n",
              "        vertical-align: middle;\n",
              "    }\n",
              "\n",
              "    .dataframe tbody tr th {\n",
              "        vertical-align: top;\n",
              "    }\n",
              "\n",
              "    .dataframe thead th {\n",
              "        text-align: right;\n",
              "    }\n",
              "</style>\n",
              "<table border=\"1\" class=\"dataframe\">\n",
              "  <thead>\n",
              "    <tr style=\"text-align: right;\">\n",
              "      <th></th>\n",
              "      <th>NU_NOTA_REDACAO</th>\n",
              "    </tr>\n",
              "    <tr>\n",
              "      <th>TP_SEXO</th>\n",
              "      <th></th>\n",
              "    </tr>\n",
              "  </thead>\n",
              "  <tbody>\n",
              "    <tr>\n",
              "      <th>F</th>\n",
              "      <td>529.937630</td>\n",
              "    </tr>\n",
              "    <tr>\n",
              "      <th>M</th>\n",
              "      <td>552.118644</td>\n",
              "    </tr>\n",
              "  </tbody>\n",
              "</table>\n",
              "</div>"
            ],
            "text/plain": [
              "         NU_NOTA_REDACAO\n",
              "TP_SEXO                 \n",
              "F             529.937630\n",
              "M             552.118644"
            ]
          },
          "metadata": {
            "tags": []
          },
          "execution_count": 9
        }
      ]
    },
    {
      "cell_type": "markdown",
      "metadata": {
        "id": "XHLJ9Ry92PEM",
        "colab_type": "text"
      },
      "source": [
        "### Qual é a **mediana** de ambos os sexos?"
      ]
    },
    {
      "cell_type": "code",
      "metadata": {
        "id": "Y6Tm6z0U2Gz7",
        "colab_type": "code",
        "colab": {
          "base_uri": "https://localhost:8080/",
          "height": 137
        },
        "outputId": "80119602-98b0-448b-e8ee-8f73fffce45f"
      },
      "source": [
        "selected_columns_tp_sexo_and_nu_nota_redacao.groupby('TP_SEXO').median()"
      ],
      "execution_count": 10,
      "outputs": [
        {
          "output_type": "execute_result",
          "data": {
            "text/html": [
              "<div>\n",
              "<style scoped>\n",
              "    .dataframe tbody tr th:only-of-type {\n",
              "        vertical-align: middle;\n",
              "    }\n",
              "\n",
              "    .dataframe tbody tr th {\n",
              "        vertical-align: top;\n",
              "    }\n",
              "\n",
              "    .dataframe thead th {\n",
              "        text-align: right;\n",
              "    }\n",
              "</style>\n",
              "<table border=\"1\" class=\"dataframe\">\n",
              "  <thead>\n",
              "    <tr style=\"text-align: right;\">\n",
              "      <th></th>\n",
              "      <th>NU_NOTA_REDACAO</th>\n",
              "    </tr>\n",
              "    <tr>\n",
              "      <th>TP_SEXO</th>\n",
              "      <th></th>\n",
              "    </tr>\n",
              "  </thead>\n",
              "  <tbody>\n",
              "    <tr>\n",
              "      <th>F</th>\n",
              "      <td>540.0</td>\n",
              "    </tr>\n",
              "    <tr>\n",
              "      <th>M</th>\n",
              "      <td>550.0</td>\n",
              "    </tr>\n",
              "  </tbody>\n",
              "</table>\n",
              "</div>"
            ],
            "text/plain": [
              "         NU_NOTA_REDACAO\n",
              "TP_SEXO                 \n",
              "F                  540.0\n",
              "M                  550.0"
            ]
          },
          "metadata": {
            "tags": []
          },
          "execution_count": 10
        }
      ]
    },
    {
      "cell_type": "markdown",
      "metadata": {
        "id": "-1CAC6mV2kjT",
        "colab_type": "text"
      },
      "source": [
        ""
      ]
    },
    {
      "cell_type": "markdown",
      "metadata": {
        "id": "Q_W5C-Xr2pHa",
        "colab_type": "text"
      },
      "source": [
        "### Visualizando os dados separados por sexo declarado"
      ]
    },
    {
      "cell_type": "code",
      "metadata": {
        "id": "W1pLhy6H2510",
        "colab_type": "code",
        "colab": {
          "base_uri": "https://localhost:8080/",
          "height": 615
        },
        "outputId": "f16a25cd-c956-4d80-b401-31436a0c3bd3"
      },
      "source": [
        "selected_columns_tp_sexo_and_nu_nota_redacao.groupby('TP_SEXO').hist()"
      ],
      "execution_count": 11,
      "outputs": [
        {
          "output_type": "execute_result",
          "data": {
            "text/plain": [
              "TP_SEXO\n",
              "F    [[AxesSubplot(0.125,0.125;0.775x0.755)]]\n",
              "M    [[AxesSubplot(0.125,0.125;0.775x0.755)]]\n",
              "dtype: object"
            ]
          },
          "metadata": {
            "tags": []
          },
          "execution_count": 11
        },
        {
          "output_type": "display_data",
          "data": {
            "image/png": "[encoded data removed]",
            "text/plain": [
              "<Figure size 432x288 with 1 Axes>"
            ]
          },
          "metadata": {
            "tags": [],
            "needs_background": "light"
          }
        },
        {
          "output_type": "display_data",
          "data": {
            "image/png": "[encoded data removed]",
            "text/plain": [
              "<Figure size 432x288 with 1 Axes>"
            ]
          },
          "metadata": {
            "tags": [],
            "needs_background": "light"
          }
        }
      ]
    },
    {
      "cell_type": "markdown",
      "metadata": {
        "id": "422Z1GLG3T6m",
        "colab_type": "text"
      },
      "source": [
        "Visualizando informações básicas do dataframe"
      ]
    },
    {
      "cell_type": "code",
      "metadata": {
        "id": "eSHbS7ZZ3a11",
        "colab_type": "code",
        "colab": {
          "base_uri": "https://localhost:8080/",
          "height": 167
        },
        "outputId": "e342c410-8f15-4c16-f019-e3e3f761dd3b"
      },
      "source": [
        "selected_columns_tp_sexo_and_nu_nota_redacao.groupby('TP_SEXO').describe()"
      ],
      "execution_count": 12,
      "outputs": [
        {
          "output_type": "execute_result",
          "data": {
            "text/html": [
              "<div>\n",
              "<style scoped>\n",
              "    .dataframe tbody tr th:only-of-type {\n",
              "        vertical-align: middle;\n",
              "    }\n",
              "\n",
              "    .dataframe tbody tr th {\n",
              "        vertical-align: top;\n",
              "    }\n",
              "\n",
              "    .dataframe thead tr th {\n",
              "        text-align: left;\n",
              "    }\n",
              "\n",
              "    .dataframe thead tr:last-of-type th {\n",
              "        text-align: right;\n",
              "    }\n",
              "</style>\n",
              "<table border=\"1\" class=\"dataframe\">\n",
              "  <thead>\n",
              "    <tr>\n",
              "      <th></th>\n",
              "      <th colspan=\"8\" halign=\"left\">NU_NOTA_REDACAO</th>\n",
              "    </tr>\n",
              "    <tr>\n",
              "      <th></th>\n",
              "      <th>count</th>\n",
              "      <th>mean</th>\n",
              "      <th>std</th>\n",
              "      <th>min</th>\n",
              "      <th>25%</th>\n",
              "      <th>50%</th>\n",
              "      <th>75%</th>\n",
              "      <th>max</th>\n",
              "    </tr>\n",
              "    <tr>\n",
              "      <th>TP_SEXO</th>\n",
              "      <th></th>\n",
              "      <th></th>\n",
              "      <th></th>\n",
              "      <th></th>\n",
              "      <th></th>\n",
              "      <th></th>\n",
              "      <th></th>\n",
              "      <th></th>\n",
              "    </tr>\n",
              "  </thead>\n",
              "  <tbody>\n",
              "    <tr>\n",
              "      <th>F</th>\n",
              "      <td>481.0</td>\n",
              "      <td>529.937630</td>\n",
              "      <td>174.666934</td>\n",
              "      <td>0.0</td>\n",
              "      <td>380.0</td>\n",
              "      <td>540.0</td>\n",
              "      <td>640.0</td>\n",
              "      <td>960.0</td>\n",
              "    </tr>\n",
              "    <tr>\n",
              "      <th>M</th>\n",
              "      <td>236.0</td>\n",
              "      <td>552.118644</td>\n",
              "      <td>176.810280</td>\n",
              "      <td>0.0</td>\n",
              "      <td>420.0</td>\n",
              "      <td>550.0</td>\n",
              "      <td>680.0</td>\n",
              "      <td>960.0</td>\n",
              "    </tr>\n",
              "  </tbody>\n",
              "</table>\n",
              "</div>"
            ],
            "text/plain": [
              "        NU_NOTA_REDACAO                          ...                     \n",
              "                  count        mean         std  ...    50%    75%    max\n",
              "TP_SEXO                                          ...                     \n",
              "F                 481.0  529.937630  174.666934  ...  540.0  640.0  960.0\n",
              "M                 236.0  552.118644  176.810280  ...  550.0  680.0  960.0\n",
              "\n",
              "[2 rows x 8 columns]"
            ]
          },
          "metadata": {
            "tags": []
          },
          "execution_count": 12
        }
      ]
    },
    {
      "cell_type": "markdown",
      "metadata": {
        "id": "tSxSrQdp3poF",
        "colab_type": "text"
      },
      "source": [
        "**Legenda**:\n",
        "\n",
        "* **count**: quantidade.\n",
        "* **mean**: média aritmética.\n",
        "* **std**: desvio padrão.\n",
        "* **min**: o mínimo.\n",
        "* **25%**: distribuição por quartiz (25% abaixo e 75% acima).\n",
        "* **50%**: mediana.\n",
        "* **75%**: distribuição por quartiz (75% abaixo e 25% acima).\n",
        "* **max**: o máximo.\n",
        "\n",
        "*Para aprender mais sobre estatística básica da uma olhada [aqui](http://www.portalaction.com.br/estatistica-basica/23-quartis).*"
      ]
    },
    {
      "cell_type": "markdown",
      "metadata": {
        "id": "JobhxLTd7XBB",
        "colab_type": "text"
      },
      "source": [
        "## A questão **socioeconômica** influência na nota do enem?"
      ]
    },
    {
      "cell_type": "markdown",
      "metadata": {
        "id": "WubG755W7-oN",
        "colab_type": "text"
      },
      "source": [
        "**Questões do questionário utilizados para responder a pergunta**:\n",
        "* Até que série seu pai ou homem responsável por você estudou?\n",
        "* Até que série sua mãe ou mulher responsavel por você estudou?\n",
        "\n",
        "**Possíveis respostas**:\n",
        "\n",
        "(A) Nunca estudou.\n",
        "\n",
        "(B) Não completou a 4ª série/5º ano do Ensino Fundamental.\n",
        "\n",
        "(C) Completou a 4ª série/5º ano, mas não completou a 8ª série/9º ano do Ensino Fundamental.\n",
        "\n",
        "(D) Completou a 8ª série/9º ano do Ensino Fundamental, mas não completou o Ensino Médio.\n",
        "\n",
        "(E) Completou o Ensino Médio, mas não completou a Faculdade.\n",
        "\n",
        "(F) Completou a Faculdade, mas não completou a Pós-graduação.\n",
        "\n",
        "(G) Completou a Pós-graduação.\n",
        "\n",
        "(H) Não sei."
      ]
    },
    {
      "cell_type": "markdown",
      "metadata": {
        "id": "N-7thco_9wAA",
        "colab_type": "text"
      },
      "source": [
        "Filtrando dados do dataframe e limpando dados\n",
        "\n"
      ]
    },
    {
      "cell_type": "code",
      "metadata": {
        "id": "MRT6W4339pkq",
        "colab_type": "code",
        "colab": {
          "base_uri": "https://localhost:8080/",
          "height": 197
        },
        "outputId": "07bf1636-36fc-463a-c257-7bb4efc423dd"
      },
      "source": [
        "selected_columns_for_socioeconomic_issues = data_enem.filter(items=['NU_INSCRICAO', 'NU_NOTA_MT', 'NU_NOTA_REDACAO', 'Q001', 'Q002'])\n",
        "selected_columns_for_socioeconomic_issues = selected_columns_for_socioeconomic_issues.dropna()\n",
        "selected_columns_for_socioeconomic_issues.head()"
      ],
      "execution_count": 14,
      "outputs": [
        {
          "output_type": "execute_result",
          "data": {
            "text/html": [
              "<div>\n",
              "<style scoped>\n",
              "    .dataframe tbody tr th:only-of-type {\n",
              "        vertical-align: middle;\n",
              "    }\n",
              "\n",
              "    .dataframe tbody tr th {\n",
              "        vertical-align: top;\n",
              "    }\n",
              "\n",
              "    .dataframe thead th {\n",
              "        text-align: right;\n",
              "    }\n",
              "</style>\n",
              "<table border=\"1\" class=\"dataframe\">\n",
              "  <thead>\n",
              "    <tr style=\"text-align: right;\">\n",
              "      <th></th>\n",
              "      <th>NU_INSCRICAO</th>\n",
              "      <th>NU_NOTA_MT</th>\n",
              "      <th>NU_NOTA_REDACAO</th>\n",
              "      <th>Q001</th>\n",
              "      <th>Q002</th>\n",
              "    </tr>\n",
              "  </thead>\n",
              "  <tbody>\n",
              "    <tr>\n",
              "      <th>1</th>\n",
              "      <td>1,80007E+11</td>\n",
              "      <td>480.3</td>\n",
              "      <td>280.0</td>\n",
              "      <td>B</td>\n",
              "      <td>B</td>\n",
              "    </tr>\n",
              "    <tr>\n",
              "      <th>5</th>\n",
              "      <td>1,80007E+11</td>\n",
              "      <td>538.8</td>\n",
              "      <td>580.0</td>\n",
              "      <td>C</td>\n",
              "      <td>D</td>\n",
              "    </tr>\n",
              "    <tr>\n",
              "      <th>7</th>\n",
              "      <td>1,80008E+11</td>\n",
              "      <td>733.8</td>\n",
              "      <td>680.0</td>\n",
              "      <td>A</td>\n",
              "      <td>E</td>\n",
              "    </tr>\n",
              "    <tr>\n",
              "      <th>8</th>\n",
              "      <td>1,80008E+11</td>\n",
              "      <td>459.0</td>\n",
              "      <td>340.0</td>\n",
              "      <td>D</td>\n",
              "      <td>D</td>\n",
              "    </tr>\n",
              "    <tr>\n",
              "      <th>9</th>\n",
              "      <td>1,80008E+11</td>\n",
              "      <td>525.4</td>\n",
              "      <td>740.0</td>\n",
              "      <td>C</td>\n",
              "      <td>C</td>\n",
              "    </tr>\n",
              "  </tbody>\n",
              "</table>\n",
              "</div>"
            ],
            "text/plain": [
              "  NU_INSCRICAO  NU_NOTA_MT  NU_NOTA_REDACAO Q001 Q002\n",
              "1  1,80007E+11       480.3            280.0    B    B\n",
              "5  1,80007E+11       538.8            580.0    C    D\n",
              "7  1,80008E+11       733.8            680.0    A    E\n",
              "8  1,80008E+11       459.0            340.0    D    D\n",
              "9  1,80008E+11       525.4            740.0    C    C"
            ]
          },
          "metadata": {
            "tags": []
          },
          "execution_count": 14
        }
      ]
    },
    {
      "cell_type": "markdown",
      "metadata": {
        "id": "e4a2FRcu_gIQ",
        "colab_type": "text"
      },
      "source": [
        "### Definindo um dicionário para os dados\n",
        "\n",
        "O dicionário será utilizado para visualizar melhor as informações que serão analisados."
      ]
    },
    {
      "cell_type": "code",
      "metadata": {
        "id": "UTnac4_5_m89",
        "colab_type": "code",
        "colab": {}
      },
      "source": [
        "dictionary = {\n",
        "    'A': 'Nunca estudou',\n",
        "    'B': 'Não completou a 4ª série/5º ano do Ensino Fundamental',\n",
        "    'C': 'Completou a 4ª série/5º ano, mas não completou a 8ª série/9º ano do Ensino Fundamental',\n",
        "    'D': 'Completou a 8ª série/9º ano do Ensino Fundamental, mas não completou o Ensino Médio', \n",
        "    'E': 'Completou o Ensino Médio, mas não completou a Faculdade',\n",
        "    'F': 'Completou a Faculdade, mas não completou a Pós-graduação',\n",
        "    'G': 'Completou a Pós-graduação',\n",
        "    'H': 'Não sei'\n",
        "    }"
      ],
      "execution_count": 0,
      "outputs": []
    },
    {
      "cell_type": "markdown",
      "metadata": {
        "id": "MA1BoxLZA11f",
        "colab_type": "text"
      },
      "source": [
        "Adicionando colunas dentro do dataframe atribuindo valores correspondentes com a coluna Q001 e a coluna Q002"
      ]
    },
    {
      "cell_type": "code",
      "metadata": {
        "id": "GjmVVCYpBEu8",
        "colab_type": "code",
        "colab": {
          "base_uri": "https://localhost:8080/",
          "height": 197
        },
        "outputId": "d7d6d71e-80ab-4a6b-8450-a17e20374c5b"
      },
      "source": [
        "selected_columns_for_socioeconomic_issues['NO_Q001'] = [dictionary[response] for response in selected_columns_for_socioeconomic_issues.Q001]\n",
        "selected_columns_for_socioeconomic_issues['NO_Q002'] = [dictionary[response] for response in selected_columns_for_socioeconomic_issues.Q002]\n",
        "selected_columns_for_socioeconomic_issues.head()"
      ],
      "execution_count": 19,
      "outputs": [
        {
          "output_type": "execute_result",
          "data": {
            "text/html": [
              "<div>\n",
              "<style scoped>\n",
              "    .dataframe tbody tr th:only-of-type {\n",
              "        vertical-align: middle;\n",
              "    }\n",
              "\n",
              "    .dataframe tbody tr th {\n",
              "        vertical-align: top;\n",
              "    }\n",
              "\n",
              "    .dataframe thead th {\n",
              "        text-align: right;\n",
              "    }\n",
              "</style>\n",
              "<table border=\"1\" class=\"dataframe\">\n",
              "  <thead>\n",
              "    <tr style=\"text-align: right;\">\n",
              "      <th></th>\n",
              "      <th>NU_INSCRICAO</th>\n",
              "      <th>NU_NOTA_MT</th>\n",
              "      <th>NU_NOTA_REDACAO</th>\n",
              "      <th>Q001</th>\n",
              "      <th>Q002</th>\n",
              "      <th>NO_Q001</th>\n",
              "      <th>NO_Q002</th>\n",
              "    </tr>\n",
              "  </thead>\n",
              "  <tbody>\n",
              "    <tr>\n",
              "      <th>1</th>\n",
              "      <td>1,80007E+11</td>\n",
              "      <td>480.3</td>\n",
              "      <td>280.0</td>\n",
              "      <td>B</td>\n",
              "      <td>B</td>\n",
              "      <td>Não completou a 4ª série/5º ano do Ensino Fund...</td>\n",
              "      <td>Não completou a 4ª série/5º ano do Ensino Fund...</td>\n",
              "    </tr>\n",
              "    <tr>\n",
              "      <th>5</th>\n",
              "      <td>1,80007E+11</td>\n",
              "      <td>538.8</td>\n",
              "      <td>580.0</td>\n",
              "      <td>C</td>\n",
              "      <td>D</td>\n",
              "      <td>Completou a 4ª série/5º ano, mas não completou...</td>\n",
              "      <td>Completou a 8ª série/9º ano do Ensino Fundamen...</td>\n",
              "    </tr>\n",
              "    <tr>\n",
              "      <th>7</th>\n",
              "      <td>1,80008E+11</td>\n",
              "      <td>733.8</td>\n",
              "      <td>680.0</td>\n",
              "      <td>A</td>\n",
              "      <td>E</td>\n",
              "      <td>Nunca estudou</td>\n",
              "      <td>Completou o Ensino Médio, mas não completou a ...</td>\n",
              "    </tr>\n",
              "    <tr>\n",
              "      <th>8</th>\n",
              "      <td>1,80008E+11</td>\n",
              "      <td>459.0</td>\n",
              "      <td>340.0</td>\n",
              "      <td>D</td>\n",
              "      <td>D</td>\n",
              "      <td>Completou a 8ª série/9º ano do Ensino Fundamen...</td>\n",
              "      <td>Completou a 8ª série/9º ano do Ensino Fundamen...</td>\n",
              "    </tr>\n",
              "    <tr>\n",
              "      <th>9</th>\n",
              "      <td>1,80008E+11</td>\n",
              "      <td>525.4</td>\n",
              "      <td>740.0</td>\n",
              "      <td>C</td>\n",
              "      <td>C</td>\n",
              "      <td>Completou a 4ª série/5º ano, mas não completou...</td>\n",
              "      <td>Completou a 4ª série/5º ano, mas não completou...</td>\n",
              "    </tr>\n",
              "  </tbody>\n",
              "</table>\n",
              "</div>"
            ],
            "text/plain": [
              "  NU_INSCRICAO  ...                                            NO_Q002\n",
              "1  1,80007E+11  ...  Não completou a 4ª série/5º ano do Ensino Fund...\n",
              "5  1,80007E+11  ...  Completou a 8ª série/9º ano do Ensino Fundamen...\n",
              "7  1,80008E+11  ...  Completou o Ensino Médio, mas não completou a ...\n",
              "8  1,80008E+11  ...  Completou a 8ª série/9º ano do Ensino Fundamen...\n",
              "9  1,80008E+11  ...  Completou a 4ª série/5º ano, mas não completou...\n",
              "\n",
              "[5 rows x 7 columns]"
            ]
          },
          "metadata": {
            "tags": []
          },
          "execution_count": 19
        }
      ]
    },
    {
      "cell_type": "markdown",
      "metadata": {
        "id": "Bt7RrU3oD17_",
        "colab_type": "text"
      },
      "source": [
        "### Comparando a distribuição do nível de escolaridade dos Pais e das Mães"
      ]
    },
    {
      "cell_type": "markdown",
      "metadata": {
        "id": "EH6MQaGsEbVg",
        "colab_type": "text"
      },
      "source": [
        "Analisando dos pais"
      ]
    },
    {
      "cell_type": "code",
      "metadata": {
        "id": "5OPJxMu1EANr",
        "colab_type": "code",
        "colab": {
          "base_uri": "https://localhost:8080/",
          "height": 317
        },
        "outputId": "e31b2e0c-30bb-47a9-93b6-d7992f07110a"
      },
      "source": [
        "selected_columns_for_socioeconomic_issues.filter(items=['NU_INSCRICAO', 'NO_Q001']).groupby('NO_Q001').count().sort_values(by='NU_INSCRICAO', ascending=False)"
      ],
      "execution_count": 26,
      "outputs": [
        {
          "output_type": "execute_result",
          "data": {
            "text/html": [
              "<div>\n",
              "<style scoped>\n",
              "    .dataframe tbody tr th:only-of-type {\n",
              "        vertical-align: middle;\n",
              "    }\n",
              "\n",
              "    .dataframe tbody tr th {\n",
              "        vertical-align: top;\n",
              "    }\n",
              "\n",
              "    .dataframe thead th {\n",
              "        text-align: right;\n",
              "    }\n",
              "</style>\n",
              "<table border=\"1\" class=\"dataframe\">\n",
              "  <thead>\n",
              "    <tr style=\"text-align: right;\">\n",
              "      <th></th>\n",
              "      <th>NU_INSCRICAO</th>\n",
              "    </tr>\n",
              "    <tr>\n",
              "      <th>NO_Q001</th>\n",
              "      <th></th>\n",
              "    </tr>\n",
              "  </thead>\n",
              "  <tbody>\n",
              "    <tr>\n",
              "      <th>Não completou a 4ª série/5º ano do Ensino Fundamental</th>\n",
              "      <td>180</td>\n",
              "    </tr>\n",
              "    <tr>\n",
              "      <th>Completou o Ensino Médio, mas não completou a Faculdade</th>\n",
              "      <td>167</td>\n",
              "    </tr>\n",
              "    <tr>\n",
              "      <th>Completou a 4ª série/5º ano, mas não completou a 8ª série/9º ano do Ensino Fundamental</th>\n",
              "      <td>101</td>\n",
              "    </tr>\n",
              "    <tr>\n",
              "      <th>Completou a 8ª série/9º ano do Ensino Fundamental, mas não completou o Ensino Médio</th>\n",
              "      <td>86</td>\n",
              "    </tr>\n",
              "    <tr>\n",
              "      <th>Não sei</th>\n",
              "      <td>73</td>\n",
              "    </tr>\n",
              "    <tr>\n",
              "      <th>Nunca estudou</th>\n",
              "      <td>40</td>\n",
              "    </tr>\n",
              "    <tr>\n",
              "      <th>Completou a Faculdade, mas não completou a Pós-graduação</th>\n",
              "      <td>28</td>\n",
              "    </tr>\n",
              "    <tr>\n",
              "      <th>Completou a Pós-graduação</th>\n",
              "      <td>5</td>\n",
              "    </tr>\n",
              "  </tbody>\n",
              "</table>\n",
              "</div>"
            ],
            "text/plain": [
              "                                                    NU_INSCRICAO\n",
              "NO_Q001                                                         \n",
              "Não completou a 4ª série/5º ano do Ensino Funda...           180\n",
              "Completou o Ensino Médio, mas não completou a F...           167\n",
              "Completou a 4ª série/5º ano, mas não completou ...           101\n",
              "Completou a 8ª série/9º ano do Ensino Fundament...            86\n",
              "Não sei                                                       73\n",
              "Nunca estudou                                                 40\n",
              "Completou a Faculdade, mas não completou a Pós-...            28\n",
              "Completou a Pós-graduação                                      5"
            ]
          },
          "metadata": {
            "tags": []
          },
          "execution_count": 26
        }
      ]
    },
    {
      "cell_type": "markdown",
      "metadata": {
        "id": "iVID_Q7_FQeG",
        "colab_type": "text"
      },
      "source": [
        "Analisando a escolaridade das mães"
      ]
    },
    {
      "cell_type": "code",
      "metadata": {
        "id": "SQT8hbIVFWfs",
        "colab_type": "code",
        "colab": {
          "base_uri": "https://localhost:8080/",
          "height": 317
        },
        "outputId": "9470c526-da64-4c47-a909-4ffc2683d5d1"
      },
      "source": [
        "selected_columns_for_socioeconomic_issues.filter(items=['NU_INSCRICAO', 'NO_Q002']).groupby('NO_Q002').count().sort_values(by='NU_INSCRICAO', ascending=False)"
      ],
      "execution_count": 27,
      "outputs": [
        {
          "output_type": "execute_result",
          "data": {
            "text/html": [
              "<div>\n",
              "<style scoped>\n",
              "    .dataframe tbody tr th:only-of-type {\n",
              "        vertical-align: middle;\n",
              "    }\n",
              "\n",
              "    .dataframe tbody tr th {\n",
              "        vertical-align: top;\n",
              "    }\n",
              "\n",
              "    .dataframe thead th {\n",
              "        text-align: right;\n",
              "    }\n",
              "</style>\n",
              "<table border=\"1\" class=\"dataframe\">\n",
              "  <thead>\n",
              "    <tr style=\"text-align: right;\">\n",
              "      <th></th>\n",
              "      <th>NU_INSCRICAO</th>\n",
              "    </tr>\n",
              "    <tr>\n",
              "      <th>NO_Q002</th>\n",
              "      <th></th>\n",
              "    </tr>\n",
              "  </thead>\n",
              "  <tbody>\n",
              "    <tr>\n",
              "      <th>Completou o Ensino Médio, mas não completou a Faculdade</th>\n",
              "      <td>239</td>\n",
              "    </tr>\n",
              "    <tr>\n",
              "      <th>Não completou a 4ª série/5º ano do Ensino Fundamental</th>\n",
              "      <td>151</td>\n",
              "    </tr>\n",
              "    <tr>\n",
              "      <th>Completou a 4ª série/5º ano, mas não completou a 8ª série/9º ano do Ensino Fundamental</th>\n",
              "      <td>96</td>\n",
              "    </tr>\n",
              "    <tr>\n",
              "      <th>Completou a 8ª série/9º ano do Ensino Fundamental, mas não completou o Ensino Médio</th>\n",
              "      <td>91</td>\n",
              "    </tr>\n",
              "    <tr>\n",
              "      <th>Completou a Faculdade, mas não completou a Pós-graduação</th>\n",
              "      <td>52</td>\n",
              "    </tr>\n",
              "    <tr>\n",
              "      <th>Completou a Pós-graduação</th>\n",
              "      <td>21</td>\n",
              "    </tr>\n",
              "    <tr>\n",
              "      <th>Não sei</th>\n",
              "      <td>16</td>\n",
              "    </tr>\n",
              "    <tr>\n",
              "      <th>Nunca estudou</th>\n",
              "      <td>14</td>\n",
              "    </tr>\n",
              "  </tbody>\n",
              "</table>\n",
              "</div>"
            ],
            "text/plain": [
              "                                                    NU_INSCRICAO\n",
              "NO_Q002                                                         \n",
              "Completou o Ensino Médio, mas não completou a F...           239\n",
              "Não completou a 4ª série/5º ano do Ensino Funda...           151\n",
              "Completou a 4ª série/5º ano, mas não completou ...            96\n",
              "Completou a 8ª série/9º ano do Ensino Fundament...            91\n",
              "Completou a Faculdade, mas não completou a Pós-...            52\n",
              "Completou a Pós-graduação                                     21\n",
              "Não sei                                                       16\n",
              "Nunca estudou                                                 14"
            ]
          },
          "metadata": {
            "tags": []
          },
          "execution_count": 27
        }
      ]
    },
    {
      "cell_type": "markdown",
      "metadata": {
        "id": "2PEfxwLpFomi",
        "colab_type": "text"
      },
      "source": [
        "### Comparando o desempenho em **matemática** de acordo com o grau de escolaridade dos Pais e das Mães"
      ]
    },
    {
      "cell_type": "markdown",
      "metadata": {
        "id": "qt1fAF80GZ_g",
        "colab_type": "text"
      },
      "source": [
        "Analisando dos pais"
      ]
    },
    {
      "cell_type": "code",
      "metadata": {
        "id": "USPce9GOGZan",
        "colab_type": "code",
        "colab": {
          "base_uri": "https://localhost:8080/",
          "height": 317
        },
        "outputId": "fdd312a1-9ff9-4d9d-f12c-348eaae6694c"
      },
      "source": [
        "selected_columns_for_socioeconomic_issues.filter(items=['NU_NOTA_MT', 'NO_Q001']).groupby('NO_Q001').mean().sort_values(by='NU_NOTA_MT', ascending=False)"
      ],
      "execution_count": 30,
      "outputs": [
        {
          "output_type": "execute_result",
          "data": {
            "text/html": [
              "<div>\n",
              "<style scoped>\n",
              "    .dataframe tbody tr th:only-of-type {\n",
              "        vertical-align: middle;\n",
              "    }\n",
              "\n",
              "    .dataframe tbody tr th {\n",
              "        vertical-align: top;\n",
              "    }\n",
              "\n",
              "    .dataframe thead th {\n",
              "        text-align: right;\n",
              "    }\n",
              "</style>\n",
              "<table border=\"1\" class=\"dataframe\">\n",
              "  <thead>\n",
              "    <tr style=\"text-align: right;\">\n",
              "      <th></th>\n",
              "      <th>NU_NOTA_MT</th>\n",
              "    </tr>\n",
              "    <tr>\n",
              "      <th>NO_Q001</th>\n",
              "      <th></th>\n",
              "    </tr>\n",
              "  </thead>\n",
              "  <tbody>\n",
              "    <tr>\n",
              "      <th>Completou a Faculdade, mas não completou a Pós-graduação</th>\n",
              "      <td>588.646429</td>\n",
              "    </tr>\n",
              "    <tr>\n",
              "      <th>Completou a Pós-graduação</th>\n",
              "      <td>571.740000</td>\n",
              "    </tr>\n",
              "    <tr>\n",
              "      <th>Nunca estudou</th>\n",
              "      <td>544.710000</td>\n",
              "    </tr>\n",
              "    <tr>\n",
              "      <th>Completou a 8ª série/9º ano do Ensino Fundamental, mas não completou o Ensino Médio</th>\n",
              "      <td>543.324419</td>\n",
              "    </tr>\n",
              "    <tr>\n",
              "      <th>Completou o Ensino Médio, mas não completou a Faculdade</th>\n",
              "      <td>538.620359</td>\n",
              "    </tr>\n",
              "    <tr>\n",
              "      <th>Não sei</th>\n",
              "      <td>538.610959</td>\n",
              "    </tr>\n",
              "    <tr>\n",
              "      <th>Completou a 4ª série/5º ano, mas não completou a 8ª série/9º ano do Ensino Fundamental</th>\n",
              "      <td>520.065347</td>\n",
              "    </tr>\n",
              "    <tr>\n",
              "      <th>Não completou a 4ª série/5º ano do Ensino Fundamental</th>\n",
              "      <td>504.322778</td>\n",
              "    </tr>\n",
              "  </tbody>\n",
              "</table>\n",
              "</div>"
            ],
            "text/plain": [
              "                                                    NU_NOTA_MT\n",
              "NO_Q001                                                       \n",
              "Completou a Faculdade, mas não completou a Pós-...  588.646429\n",
              "Completou a Pós-graduação                           571.740000\n",
              "Nunca estudou                                       544.710000\n",
              "Completou a 8ª série/9º ano do Ensino Fundament...  543.324419\n",
              "Completou o Ensino Médio, mas não completou a F...  538.620359\n",
              "Não sei                                             538.610959\n",
              "Completou a 4ª série/5º ano, mas não completou ...  520.065347\n",
              "Não completou a 4ª série/5º ano do Ensino Funda...  504.322778"
            ]
          },
          "metadata": {
            "tags": []
          },
          "execution_count": 30
        }
      ]
    },
    {
      "cell_type": "markdown",
      "metadata": {
        "id": "eAMvi-krGiZt",
        "colab_type": "text"
      },
      "source": [
        "Analisando das mães"
      ]
    },
    {
      "cell_type": "code",
      "metadata": {
        "id": "MZkKmiRxGkdN",
        "colab_type": "code",
        "colab": {
          "base_uri": "https://localhost:8080/",
          "height": 317
        },
        "outputId": "52867110-e4c3-4561-d9c3-ccd2fbf09bce"
      },
      "source": [
        "selected_columns_for_socioeconomic_issues.filter(items=['NU_NOTA_MT', 'NO_Q002']).groupby('NO_Q002').mean().sort_values(by='NU_NOTA_MT', ascending=False)"
      ],
      "execution_count": 31,
      "outputs": [
        {
          "output_type": "execute_result",
          "data": {
            "text/html": [
              "<div>\n",
              "<style scoped>\n",
              "    .dataframe tbody tr th:only-of-type {\n",
              "        vertical-align: middle;\n",
              "    }\n",
              "\n",
              "    .dataframe tbody tr th {\n",
              "        vertical-align: top;\n",
              "    }\n",
              "\n",
              "    .dataframe thead th {\n",
              "        text-align: right;\n",
              "    }\n",
              "</style>\n",
              "<table border=\"1\" class=\"dataframe\">\n",
              "  <thead>\n",
              "    <tr style=\"text-align: right;\">\n",
              "      <th></th>\n",
              "      <th>NU_NOTA_MT</th>\n",
              "    </tr>\n",
              "    <tr>\n",
              "      <th>NO_Q002</th>\n",
              "      <th></th>\n",
              "    </tr>\n",
              "  </thead>\n",
              "  <tbody>\n",
              "    <tr>\n",
              "      <th>Completou a Faculdade, mas não completou a Pós-graduação</th>\n",
              "      <td>564.450000</td>\n",
              "    </tr>\n",
              "    <tr>\n",
              "      <th>Não sei</th>\n",
              "      <td>544.318750</td>\n",
              "    </tr>\n",
              "    <tr>\n",
              "      <th>Completou a 8ª série/9º ano do Ensino Fundamental, mas não completou o Ensino Médio</th>\n",
              "      <td>535.316484</td>\n",
              "    </tr>\n",
              "    <tr>\n",
              "      <th>Completou o Ensino Médio, mas não completou a Faculdade</th>\n",
              "      <td>534.740167</td>\n",
              "    </tr>\n",
              "    <tr>\n",
              "      <th>Completou a Pós-graduação</th>\n",
              "      <td>533.052381</td>\n",
              "    </tr>\n",
              "    <tr>\n",
              "      <th>Completou a 4ª série/5º ano, mas não completou a 8ª série/9º ano do Ensino Fundamental</th>\n",
              "      <td>524.981250</td>\n",
              "    </tr>\n",
              "    <tr>\n",
              "      <th>Não completou a 4ª série/5º ano do Ensino Fundamental</th>\n",
              "      <td>511.431126</td>\n",
              "    </tr>\n",
              "    <tr>\n",
              "      <th>Nunca estudou</th>\n",
              "      <td>502.314286</td>\n",
              "    </tr>\n",
              "  </tbody>\n",
              "</table>\n",
              "</div>"
            ],
            "text/plain": [
              "                                                    NU_NOTA_MT\n",
              "NO_Q002                                                       \n",
              "Completou a Faculdade, mas não completou a Pós-...  564.450000\n",
              "Não sei                                             544.318750\n",
              "Completou a 8ª série/9º ano do Ensino Fundament...  535.316484\n",
              "Completou o Ensino Médio, mas não completou a F...  534.740167\n",
              "Completou a Pós-graduação                           533.052381\n",
              "Completou a 4ª série/5º ano, mas não completou ...  524.981250\n",
              "Não completou a 4ª série/5º ano do Ensino Funda...  511.431126\n",
              "Nunca estudou                                       502.314286"
            ]
          },
          "metadata": {
            "tags": []
          },
          "execution_count": 31
        }
      ]
    },
    {
      "cell_type": "markdown",
      "metadata": {
        "colab_type": "text",
        "id": "VBMPrRfGIF9V"
      },
      "source": [
        "### Comparando o desempenho em **Redação** de acordo com o grau de escolaridade dos Pais e das Mães"
      ]
    },
    {
      "cell_type": "markdown",
      "metadata": {
        "colab_type": "text",
        "id": "kcZ3cRVbIF9Y"
      },
      "source": [
        "Analisando dos pais"
      ]
    },
    {
      "cell_type": "code",
      "metadata": {
        "colab_type": "code",
        "outputId": "02365a6a-6c23-4a00-e061-8c291f477514",
        "id": "JUUsZcmaIF9a",
        "colab": {
          "base_uri": "https://localhost:8080/",
          "height": 317
        }
      },
      "source": [
        "selected_columns_for_socioeconomic_issues.filter(items=['NU_NOTA_REDACAO', 'NO_Q001']).groupby('NO_Q001').mean().sort_values(by='NU_NOTA_REDACAO', ascending=False)"
      ],
      "execution_count": 32,
      "outputs": [
        {
          "output_type": "execute_result",
          "data": {
            "text/html": [
              "<div>\n",
              "<style scoped>\n",
              "    .dataframe tbody tr th:only-of-type {\n",
              "        vertical-align: middle;\n",
              "    }\n",
              "\n",
              "    .dataframe tbody tr th {\n",
              "        vertical-align: top;\n",
              "    }\n",
              "\n",
              "    .dataframe thead th {\n",
              "        text-align: right;\n",
              "    }\n",
              "</style>\n",
              "<table border=\"1\" class=\"dataframe\">\n",
              "  <thead>\n",
              "    <tr style=\"text-align: right;\">\n",
              "      <th></th>\n",
              "      <th>NU_NOTA_REDACAO</th>\n",
              "    </tr>\n",
              "    <tr>\n",
              "      <th>NO_Q001</th>\n",
              "      <th></th>\n",
              "    </tr>\n",
              "  </thead>\n",
              "  <tbody>\n",
              "    <tr>\n",
              "      <th>Completou a Pós-graduação</th>\n",
              "      <td>716.000000</td>\n",
              "    </tr>\n",
              "    <tr>\n",
              "      <th>Completou a Faculdade, mas não completou a Pós-graduação</th>\n",
              "      <td>616.428571</td>\n",
              "    </tr>\n",
              "    <tr>\n",
              "      <th>Completou a 8ª série/9º ano do Ensino Fundamental, mas não completou o Ensino Médio</th>\n",
              "      <td>588.372093</td>\n",
              "    </tr>\n",
              "    <tr>\n",
              "      <th>Nunca estudou</th>\n",
              "      <td>575.500000</td>\n",
              "    </tr>\n",
              "    <tr>\n",
              "      <th>Completou o Ensino Médio, mas não completou a Faculdade</th>\n",
              "      <td>568.622754</td>\n",
              "    </tr>\n",
              "    <tr>\n",
              "      <th>Completou a 4ª série/5º ano, mas não completou a 8ª série/9º ano do Ensino Fundamental</th>\n",
              "      <td>557.623762</td>\n",
              "    </tr>\n",
              "    <tr>\n",
              "      <th>Não sei</th>\n",
              "      <td>532.876712</td>\n",
              "    </tr>\n",
              "    <tr>\n",
              "      <th>Não completou a 4ª série/5º ano do Ensino Fundamental</th>\n",
              "      <td>471.666667</td>\n",
              "    </tr>\n",
              "  </tbody>\n",
              "</table>\n",
              "</div>"
            ],
            "text/plain": [
              "                                                    NU_NOTA_REDACAO\n",
              "NO_Q001                                                            \n",
              "Completou a Pós-graduação                                716.000000\n",
              "Completou a Faculdade, mas não completou a Pós-...       616.428571\n",
              "Completou a 8ª série/9º ano do Ensino Fundament...       588.372093\n",
              "Nunca estudou                                            575.500000\n",
              "Completou o Ensino Médio, mas não completou a F...       568.622754\n",
              "Completou a 4ª série/5º ano, mas não completou ...       557.623762\n",
              "Não sei                                                  532.876712\n",
              "Não completou a 4ª série/5º ano do Ensino Funda...       471.666667"
            ]
          },
          "metadata": {
            "tags": []
          },
          "execution_count": 32
        }
      ]
    },
    {
      "cell_type": "markdown",
      "metadata": {
        "colab_type": "text",
        "id": "MNvcpHscIF9q"
      },
      "source": [
        "Analisando das mães"
      ]
    },
    {
      "cell_type": "code",
      "metadata": {
        "colab_type": "code",
        "outputId": "40e5c5ce-8d18-4de9-a87c-3821ad7d723a",
        "id": "c11cxt2PIF9r",
        "colab": {
          "base_uri": "https://localhost:8080/",
          "height": 317
        }
      },
      "source": [
        "selected_columns_for_socioeconomic_issues.filter(items=['NU_NOTA_REDACAO', 'NO_Q002']).groupby('NO_Q002').mean().sort_values(by='NU_NOTA_REDACAO', ascending=False)"
      ],
      "execution_count": 33,
      "outputs": [
        {
          "output_type": "execute_result",
          "data": {
            "text/html": [
              "<div>\n",
              "<style scoped>\n",
              "    .dataframe tbody tr th:only-of-type {\n",
              "        vertical-align: middle;\n",
              "    }\n",
              "\n",
              "    .dataframe tbody tr th {\n",
              "        vertical-align: top;\n",
              "    }\n",
              "\n",
              "    .dataframe thead th {\n",
              "        text-align: right;\n",
              "    }\n",
              "</style>\n",
              "<table border=\"1\" class=\"dataframe\">\n",
              "  <thead>\n",
              "    <tr style=\"text-align: right;\">\n",
              "      <th></th>\n",
              "      <th>NU_NOTA_REDACAO</th>\n",
              "    </tr>\n",
              "    <tr>\n",
              "      <th>NO_Q002</th>\n",
              "      <th></th>\n",
              "    </tr>\n",
              "  </thead>\n",
              "  <tbody>\n",
              "    <tr>\n",
              "      <th>Completou a Faculdade, mas não completou a Pós-graduação</th>\n",
              "      <td>612.307692</td>\n",
              "    </tr>\n",
              "    <tr>\n",
              "      <th>Completou a Pós-graduação</th>\n",
              "      <td>605.714286</td>\n",
              "    </tr>\n",
              "    <tr>\n",
              "      <th>Completou o Ensino Médio, mas não completou a Faculdade</th>\n",
              "      <td>561.506276</td>\n",
              "    </tr>\n",
              "    <tr>\n",
              "      <th>Completou a 8ª série/9º ano do Ensino Fundamental, mas não completou o Ensino Médio</th>\n",
              "      <td>558.901099</td>\n",
              "    </tr>\n",
              "    <tr>\n",
              "      <th>Completou a 4ª série/5º ano, mas não completou a 8ª série/9º ano do Ensino Fundamental</th>\n",
              "      <td>525.625000</td>\n",
              "    </tr>\n",
              "    <tr>\n",
              "      <th>Não sei</th>\n",
              "      <td>521.250000</td>\n",
              "    </tr>\n",
              "    <tr>\n",
              "      <th>Nunca estudou</th>\n",
              "      <td>514.285714</td>\n",
              "    </tr>\n",
              "    <tr>\n",
              "      <th>Não completou a 4ª série/5º ano do Ensino Fundamental</th>\n",
              "      <td>489.536424</td>\n",
              "    </tr>\n",
              "  </tbody>\n",
              "</table>\n",
              "</div>"
            ],
            "text/plain": [
              "                                                    NU_NOTA_REDACAO\n",
              "NO_Q002                                                            \n",
              "Completou a Faculdade, mas não completou a Pós-...       612.307692\n",
              "Completou a Pós-graduação                                605.714286\n",
              "Completou o Ensino Médio, mas não completou a F...       561.506276\n",
              "Completou a 8ª série/9º ano do Ensino Fundament...       558.901099\n",
              "Completou a 4ª série/5º ano, mas não completou ...       525.625000\n",
              "Não sei                                                  521.250000\n",
              "Nunca estudou                                            514.285714\n",
              "Não completou a 4ª série/5º ano do Ensino Funda...       489.536424"
            ]
          },
          "metadata": {
            "tags": []
          },
          "execution_count": 33
        }
      ]
    },
    {
      "cell_type": "markdown",
      "metadata": {
        "id": "1YWSo_COIujT",
        "colab_type": "text"
      },
      "source": [
        "### Verificando graficamente as informações"
      ]
    },
    {
      "cell_type": "markdown",
      "metadata": {
        "id": "Ws2m-c1QJXfl",
        "colab_type": "text"
      },
      "source": [
        "Comparando desempenho em matemática com a escolaridade dos pais"
      ]
    },
    {
      "cell_type": "code",
      "metadata": {
        "id": "Q7g2ltjOJMMU",
        "colab_type": "code",
        "colab": {
          "base_uri": "https://localhost:8080/",
          "height": 298
        },
        "outputId": "0ad99128-d4f0-42e4-9a0d-c79b7eb332cb"
      },
      "source": [
        "selection_of_grades_by_fathers_schooling = selected_columns_for_socioeconomic_issues.filter(items=['NU_NOTA_MT', 'NO_Q001']).groupby('NO_Q001').mean().sort_values(by='NU_NOTA_MT', ascending=False)\n",
        "selection_of_grades_by_fathers_schooling.plot()"
      ],
      "execution_count": 43,
      "outputs": [
        {
          "output_type": "execute_result",
          "data": {
            "text/plain": [
              "<matplotlib.axes._subplots.AxesSubplot at 0x7fc5f9840160>"
            ]
          },
          "metadata": {
            "tags": []
          },
          "execution_count": 43
        },
        {
          "output_type": "display_data",
          "data": {
            "image/png": "[encoded data removed]",
            "text/plain": [
              "<Figure size 432x288 with 1 Axes>"
            ]
          },
          "metadata": {
            "tags": [],
            "needs_background": "light"
          }
        }
      ]
    },
    {
      "cell_type": "code",
      "metadata": {
        "id": "rFgbNxbCMNB7",
        "colab_type": "code",
        "colab": {
          "base_uri": "https://localhost:8080/",
          "height": 347
        },
        "outputId": "09d3543e-3f0b-4434-9326-3d185c616b00"
      },
      "source": [
        "selection_of_grades_by_fathers_schooling = selected_columns_for_socioeconomic_issues.filter(items=['NU_NOTA_MT', 'NO_Q001']).groupby('NO_Q001')\n",
        "selection_of_grades_by_fathers_schooling.describe()"
      ],
      "execution_count": 46,
      "outputs": [
        {
          "output_type": "execute_result",
          "data": {
            "text/html": [
              "<div>\n",
              "<style scoped>\n",
              "    .dataframe tbody tr th:only-of-type {\n",
              "        vertical-align: middle;\n",
              "    }\n",
              "\n",
              "    .dataframe tbody tr th {\n",
              "        vertical-align: top;\n",
              "    }\n",
              "\n",
              "    .dataframe thead tr th {\n",
              "        text-align: left;\n",
              "    }\n",
              "\n",
              "    .dataframe thead tr:last-of-type th {\n",
              "        text-align: right;\n",
              "    }\n",
              "</style>\n",
              "<table border=\"1\" class=\"dataframe\">\n",
              "  <thead>\n",
              "    <tr>\n",
              "      <th></th>\n",
              "      <th colspan=\"8\" halign=\"left\">NU_NOTA_MT</th>\n",
              "    </tr>\n",
              "    <tr>\n",
              "      <th></th>\n",
              "      <th>count</th>\n",
              "      <th>mean</th>\n",
              "      <th>std</th>\n",
              "      <th>min</th>\n",
              "      <th>25%</th>\n",
              "      <th>50%</th>\n",
              "      <th>75%</th>\n",
              "      <th>max</th>\n",
              "    </tr>\n",
              "    <tr>\n",
              "      <th>NO_Q001</th>\n",
              "      <th></th>\n",
              "      <th></th>\n",
              "      <th></th>\n",
              "      <th></th>\n",
              "      <th></th>\n",
              "      <th></th>\n",
              "      <th></th>\n",
              "      <th></th>\n",
              "    </tr>\n",
              "  </thead>\n",
              "  <tbody>\n",
              "    <tr>\n",
              "      <th>Completou a 4ª série/5º ano, mas não completou a 8ª série/9º ano do Ensino Fundamental</th>\n",
              "      <td>101.0</td>\n",
              "      <td>520.065347</td>\n",
              "      <td>85.141035</td>\n",
              "      <td>381.9</td>\n",
              "      <td>453.600</td>\n",
              "      <td>502.00</td>\n",
              "      <td>568.700</td>\n",
              "      <td>777.6</td>\n",
              "    </tr>\n",
              "    <tr>\n",
              "      <th>Completou a 8ª série/9º ano do Ensino Fundamental, mas não completou o Ensino Médio</th>\n",
              "      <td>86.0</td>\n",
              "      <td>543.324419</td>\n",
              "      <td>90.923677</td>\n",
              "      <td>381.1</td>\n",
              "      <td>472.625</td>\n",
              "      <td>524.20</td>\n",
              "      <td>603.350</td>\n",
              "      <td>817.4</td>\n",
              "    </tr>\n",
              "    <tr>\n",
              "      <th>Completou a Faculdade, mas não completou a Pós-graduação</th>\n",
              "      <td>28.0</td>\n",
              "      <td>588.646429</td>\n",
              "      <td>121.870279</td>\n",
              "      <td>422.8</td>\n",
              "      <td>490.600</td>\n",
              "      <td>568.20</td>\n",
              "      <td>653.050</td>\n",
              "      <td>890.2</td>\n",
              "    </tr>\n",
              "    <tr>\n",
              "      <th>Completou a Pós-graduação</th>\n",
              "      <td>5.0</td>\n",
              "      <td>571.740000</td>\n",
              "      <td>125.005332</td>\n",
              "      <td>375.0</td>\n",
              "      <td>539.100</td>\n",
              "      <td>603.90</td>\n",
              "      <td>636.800</td>\n",
              "      <td>703.9</td>\n",
              "    </tr>\n",
              "    <tr>\n",
              "      <th>Completou o Ensino Médio, mas não completou a Faculdade</th>\n",
              "      <td>167.0</td>\n",
              "      <td>538.620359</td>\n",
              "      <td>91.436856</td>\n",
              "      <td>384.9</td>\n",
              "      <td>473.900</td>\n",
              "      <td>523.30</td>\n",
              "      <td>599.350</td>\n",
              "      <td>793.3</td>\n",
              "    </tr>\n",
              "    <tr>\n",
              "      <th>Nunca estudou</th>\n",
              "      <td>40.0</td>\n",
              "      <td>544.710000</td>\n",
              "      <td>98.079619</td>\n",
              "      <td>371.2</td>\n",
              "      <td>473.550</td>\n",
              "      <td>519.15</td>\n",
              "      <td>622.150</td>\n",
              "      <td>733.8</td>\n",
              "    </tr>\n",
              "    <tr>\n",
              "      <th>Não completou a 4ª série/5º ano do Ensino Fundamental</th>\n",
              "      <td>180.0</td>\n",
              "      <td>504.322778</td>\n",
              "      <td>86.184326</td>\n",
              "      <td>376.9</td>\n",
              "      <td>435.500</td>\n",
              "      <td>499.10</td>\n",
              "      <td>556.025</td>\n",
              "      <td>754.9</td>\n",
              "    </tr>\n",
              "    <tr>\n",
              "      <th>Não sei</th>\n",
              "      <td>73.0</td>\n",
              "      <td>538.610959</td>\n",
              "      <td>96.184515</td>\n",
              "      <td>383.5</td>\n",
              "      <td>462.000</td>\n",
              "      <td>525.80</td>\n",
              "      <td>600.900</td>\n",
              "      <td>758.4</td>\n",
              "    </tr>\n",
              "  </tbody>\n",
              "</table>\n",
              "</div>"
            ],
            "text/plain": [
              "                                                   NU_NOTA_MT  ...       \n",
              "                                                        count  ...    max\n",
              "NO_Q001                                                        ...       \n",
              "Completou a 4ª série/5º ano, mas não completou ...      101.0  ...  777.6\n",
              "Completou a 8ª série/9º ano do Ensino Fundament...       86.0  ...  817.4\n",
              "Completou a Faculdade, mas não completou a Pós-...       28.0  ...  890.2\n",
              "Completou a Pós-graduação                                 5.0  ...  703.9\n",
              "Completou o Ensino Médio, mas não completou a F...      167.0  ...  793.3\n",
              "Nunca estudou                                            40.0  ...  733.8\n",
              "Não completou a 4ª série/5º ano do Ensino Funda...      180.0  ...  754.9\n",
              "Não sei                                                  73.0  ...  758.4\n",
              "\n",
              "[8 rows x 8 columns]"
            ]
          },
          "metadata": {
            "tags": []
          },
          "execution_count": 46
        }
      ]
    },
    {
      "cell_type": "markdown",
      "metadata": {
        "id": "d0rgHnC7Lu7w",
        "colab_type": "text"
      },
      "source": [
        "Comparando desempenho em matemática com a escolaridade das mães"
      ]
    },
    {
      "cell_type": "code",
      "metadata": {
        "id": "XIDKEhyWKA2c",
        "colab_type": "code",
        "colab": {
          "base_uri": "https://localhost:8080/",
          "height": 298
        },
        "outputId": "c1fe6825-dacd-4a44-ae16-7d8958e9a372"
      },
      "source": [
        "selection_of_grades_by_mothers_schooling = selected_columns_for_socioeconomic_issues.filter(items=['NU_NOTA_MT', 'NO_Q002']).groupby('NO_Q002').mean().sort_values(by='NU_NOTA_MT', ascending=False)\n",
        "selection_of_grades_by_mothers_schooling.plot()"
      ],
      "execution_count": 44,
      "outputs": [
        {
          "output_type": "execute_result",
          "data": {
            "text/plain": [
              "<matplotlib.axes._subplots.AxesSubplot at 0x7fc5f979ef60>"
            ]
          },
          "metadata": {
            "tags": []
          },
          "execution_count": 44
        },
        {
          "output_type": "display_data",
          "data": {
            "image/png": "[encoded data removed]",
            "text/plain": [
              "<Figure size 432x288 with 1 Axes>"
            ]
          },
          "metadata": {
            "tags": [],
            "needs_background": "light"
          }
        }
      ]
    },
    {
      "cell_type": "code",
      "metadata": {
        "id": "BbOJLBjaMmVh",
        "colab_type": "code",
        "colab": {
          "base_uri": "https://localhost:8080/",
          "height": 347
        },
        "outputId": "e5ee3b4b-75a1-4598-b6b1-ebef4cf911c6"
      },
      "source": [
        "selection_of_grades_by_mothers_schooling = selected_columns_for_socioeconomic_issues.filter(items=['NU_NOTA_MT', 'NO_Q002']).groupby('NO_Q002')\n",
        "selection_of_grades_by_mothers_schooling.describe()"
      ],
      "execution_count": 47,
      "outputs": [
        {
          "output_type": "execute_result",
          "data": {
            "text/html": [
              "<div>\n",
              "<style scoped>\n",
              "    .dataframe tbody tr th:only-of-type {\n",
              "        vertical-align: middle;\n",
              "    }\n",
              "\n",
              "    .dataframe tbody tr th {\n",
              "        vertical-align: top;\n",
              "    }\n",
              "\n",
              "    .dataframe thead tr th {\n",
              "        text-align: left;\n",
              "    }\n",
              "\n",
              "    .dataframe thead tr:last-of-type th {\n",
              "        text-align: right;\n",
              "    }\n",
              "</style>\n",
              "<table border=\"1\" class=\"dataframe\">\n",
              "  <thead>\n",
              "    <tr>\n",
              "      <th></th>\n",
              "      <th colspan=\"8\" halign=\"left\">NU_NOTA_MT</th>\n",
              "    </tr>\n",
              "    <tr>\n",
              "      <th></th>\n",
              "      <th>count</th>\n",
              "      <th>mean</th>\n",
              "      <th>std</th>\n",
              "      <th>min</th>\n",
              "      <th>25%</th>\n",
              "      <th>50%</th>\n",
              "      <th>75%</th>\n",
              "      <th>max</th>\n",
              "    </tr>\n",
              "    <tr>\n",
              "      <th>NO_Q002</th>\n",
              "      <th></th>\n",
              "      <th></th>\n",
              "      <th></th>\n",
              "      <th></th>\n",
              "      <th></th>\n",
              "      <th></th>\n",
              "      <th></th>\n",
              "      <th></th>\n",
              "    </tr>\n",
              "  </thead>\n",
              "  <tbody>\n",
              "    <tr>\n",
              "      <th>Completou a 4ª série/5º ano, mas não completou a 8ª série/9º ano do Ensino Fundamental</th>\n",
              "      <td>96.0</td>\n",
              "      <td>524.981250</td>\n",
              "      <td>92.827204</td>\n",
              "      <td>385.6</td>\n",
              "      <td>446.125</td>\n",
              "      <td>513.65</td>\n",
              "      <td>587.725</td>\n",
              "      <td>817.4</td>\n",
              "    </tr>\n",
              "    <tr>\n",
              "      <th>Completou a 8ª série/9º ano do Ensino Fundamental, mas não completou o Ensino Médio</th>\n",
              "      <td>91.0</td>\n",
              "      <td>535.316484</td>\n",
              "      <td>101.073231</td>\n",
              "      <td>383.7</td>\n",
              "      <td>460.950</td>\n",
              "      <td>523.90</td>\n",
              "      <td>586.400</td>\n",
              "      <td>793.3</td>\n",
              "    </tr>\n",
              "    <tr>\n",
              "      <th>Completou a Faculdade, mas não completou a Pós-graduação</th>\n",
              "      <td>52.0</td>\n",
              "      <td>564.450000</td>\n",
              "      <td>103.427278</td>\n",
              "      <td>375.0</td>\n",
              "      <td>481.675</td>\n",
              "      <td>571.25</td>\n",
              "      <td>638.275</td>\n",
              "      <td>783.9</td>\n",
              "    </tr>\n",
              "    <tr>\n",
              "      <th>Completou a Pós-graduação</th>\n",
              "      <td>21.0</td>\n",
              "      <td>533.052381</td>\n",
              "      <td>99.924880</td>\n",
              "      <td>384.9</td>\n",
              "      <td>458.100</td>\n",
              "      <td>518.60</td>\n",
              "      <td>602.900</td>\n",
              "      <td>762.7</td>\n",
              "    </tr>\n",
              "    <tr>\n",
              "      <th>Completou o Ensino Médio, mas não completou a Faculdade</th>\n",
              "      <td>239.0</td>\n",
              "      <td>534.740167</td>\n",
              "      <td>91.766708</td>\n",
              "      <td>371.2</td>\n",
              "      <td>462.050</td>\n",
              "      <td>517.20</td>\n",
              "      <td>594.900</td>\n",
              "      <td>890.2</td>\n",
              "    </tr>\n",
              "    <tr>\n",
              "      <th>Nunca estudou</th>\n",
              "      <td>14.0</td>\n",
              "      <td>502.314286</td>\n",
              "      <td>80.313720</td>\n",
              "      <td>391.4</td>\n",
              "      <td>459.125</td>\n",
              "      <td>493.00</td>\n",
              "      <td>524.125</td>\n",
              "      <td>710.9</td>\n",
              "    </tr>\n",
              "    <tr>\n",
              "      <th>Não completou a 4ª série/5º ano do Ensino Fundamental</th>\n",
              "      <td>151.0</td>\n",
              "      <td>511.431126</td>\n",
              "      <td>87.789954</td>\n",
              "      <td>376.9</td>\n",
              "      <td>448.450</td>\n",
              "      <td>497.70</td>\n",
              "      <td>557.800</td>\n",
              "      <td>752.0</td>\n",
              "    </tr>\n",
              "    <tr>\n",
              "      <th>Não sei</th>\n",
              "      <td>16.0</td>\n",
              "      <td>544.318750</td>\n",
              "      <td>62.964638</td>\n",
              "      <td>462.0</td>\n",
              "      <td>490.325</td>\n",
              "      <td>530.30</td>\n",
              "      <td>598.725</td>\n",
              "      <td>650.4</td>\n",
              "    </tr>\n",
              "  </tbody>\n",
              "</table>\n",
              "</div>"
            ],
            "text/plain": [
              "                                                   NU_NOTA_MT  ...       \n",
              "                                                        count  ...    max\n",
              "NO_Q002                                                        ...       \n",
              "Completou a 4ª série/5º ano, mas não completou ...       96.0  ...  817.4\n",
              "Completou a 8ª série/9º ano do Ensino Fundament...       91.0  ...  793.3\n",
              "Completou a Faculdade, mas não completou a Pós-...       52.0  ...  783.9\n",
              "Completou a Pós-graduação                                21.0  ...  762.7\n",
              "Completou o Ensino Médio, mas não completou a F...      239.0  ...  890.2\n",
              "Nunca estudou                                            14.0  ...  710.9\n",
              "Não completou a 4ª série/5º ano do Ensino Funda...      151.0  ...  752.0\n",
              "Não sei                                                  16.0  ...  650.4\n",
              "\n",
              "[8 rows x 8 columns]"
            ]
          },
          "metadata": {
            "tags": []
          },
          "execution_count": 47
        }
      ]
    },
    {
      "cell_type": "markdown",
      "metadata": {
        "id": "96KiByW0Mt_g",
        "colab_type": "text"
      },
      "source": [
        "Comparando desempenho na redação com a escolaridade dos pais"
      ]
    },
    {
      "cell_type": "code",
      "metadata": {
        "id": "7msvp07XMx6Q",
        "colab_type": "code",
        "colab": {
          "base_uri": "https://localhost:8080/",
          "height": 298
        },
        "outputId": "b505159c-699d-4c2c-d2c2-3ee130e7cf57"
      },
      "source": [
        "selection_of_grades_by_fathers_schooling = selected_columns_for_socioeconomic_issues.filter(items=['NU_NOTA_REDACAO', 'NO_Q001']).groupby('NO_Q001').mean().sort_values(by='NU_NOTA_REDACAO', ascending=False)\n",
        "selection_of_grades_by_fathers_schooling.plot()"
      ],
      "execution_count": 48,
      "outputs": [
        {
          "output_type": "execute_result",
          "data": {
            "text/plain": [
              "<matplotlib.axes._subplots.AxesSubplot at 0x7fc5f9719e80>"
            ]
          },
          "metadata": {
            "tags": []
          },
          "execution_count": 48
        },
        {
          "output_type": "display_data",
          "data": {
            "image/png": "[encoded data removed]",
            "text/plain": [
              "<Figure size 432x288 with 1 Axes>"
            ]
          },
          "metadata": {
            "tags": [],
            "needs_background": "light"
          }
        }
      ]
    },
    {
      "cell_type": "code",
      "metadata": {
        "id": "dGya136uM1uo",
        "colab_type": "code",
        "colab": {
          "base_uri": "https://localhost:8080/",
          "height": 347
        },
        "outputId": "24b0fa16-2011-4d2e-8197-215ee9509223"
      },
      "source": [
        "selection_of_grades_by_fathers_schooling = selected_columns_for_socioeconomic_issues.filter(items=['NU_NOTA_REDACAO', 'NO_Q001']).groupby('NO_Q001')\n",
        "selection_of_grades_by_fathers_schooling.describe()"
      ],
      "execution_count": 53,
      "outputs": [
        {
          "output_type": "execute_result",
          "data": {
            "text/html": [
              "<div>\n",
              "<style scoped>\n",
              "    .dataframe tbody tr th:only-of-type {\n",
              "        vertical-align: middle;\n",
              "    }\n",
              "\n",
              "    .dataframe tbody tr th {\n",
              "        vertical-align: top;\n",
              "    }\n",
              "\n",
              "    .dataframe thead tr th {\n",
              "        text-align: left;\n",
              "    }\n",
              "\n",
              "    .dataframe thead tr:last-of-type th {\n",
              "        text-align: right;\n",
              "    }\n",
              "</style>\n",
              "<table border=\"1\" class=\"dataframe\">\n",
              "  <thead>\n",
              "    <tr>\n",
              "      <th></th>\n",
              "      <th colspan=\"8\" halign=\"left\">NU_NOTA_REDACAO</th>\n",
              "    </tr>\n",
              "    <tr>\n",
              "      <th></th>\n",
              "      <th>count</th>\n",
              "      <th>mean</th>\n",
              "      <th>std</th>\n",
              "      <th>min</th>\n",
              "      <th>25%</th>\n",
              "      <th>50%</th>\n",
              "      <th>75%</th>\n",
              "      <th>max</th>\n",
              "    </tr>\n",
              "    <tr>\n",
              "      <th>NO_Q001</th>\n",
              "      <th></th>\n",
              "      <th></th>\n",
              "      <th></th>\n",
              "      <th></th>\n",
              "      <th></th>\n",
              "      <th></th>\n",
              "      <th></th>\n",
              "      <th></th>\n",
              "    </tr>\n",
              "  </thead>\n",
              "  <tbody>\n",
              "    <tr>\n",
              "      <th>Completou a 4ª série/5º ano, mas não completou a 8ª série/9º ano do Ensino Fundamental</th>\n",
              "      <td>101.0</td>\n",
              "      <td>557.623762</td>\n",
              "      <td>138.947102</td>\n",
              "      <td>240.0</td>\n",
              "      <td>460.0</td>\n",
              "      <td>560.0</td>\n",
              "      <td>640.0</td>\n",
              "      <td>960.0</td>\n",
              "    </tr>\n",
              "    <tr>\n",
              "      <th>Completou a 8ª série/9º ano do Ensino Fundamental, mas não completou o Ensino Médio</th>\n",
              "      <td>86.0</td>\n",
              "      <td>588.372093</td>\n",
              "      <td>186.949886</td>\n",
              "      <td>280.0</td>\n",
              "      <td>410.0</td>\n",
              "      <td>560.0</td>\n",
              "      <td>715.0</td>\n",
              "      <td>960.0</td>\n",
              "    </tr>\n",
              "    <tr>\n",
              "      <th>Completou a Faculdade, mas não completou a Pós-graduação</th>\n",
              "      <td>28.0</td>\n",
              "      <td>616.428571</td>\n",
              "      <td>181.438986</td>\n",
              "      <td>0.0</td>\n",
              "      <td>540.0</td>\n",
              "      <td>600.0</td>\n",
              "      <td>725.0</td>\n",
              "      <td>920.0</td>\n",
              "    </tr>\n",
              "    <tr>\n",
              "      <th>Completou a Pós-graduação</th>\n",
              "      <td>5.0</td>\n",
              "      <td>716.000000</td>\n",
              "      <td>132.211951</td>\n",
              "      <td>580.0</td>\n",
              "      <td>620.0</td>\n",
              "      <td>680.0</td>\n",
              "      <td>800.0</td>\n",
              "      <td>900.0</td>\n",
              "    </tr>\n",
              "    <tr>\n",
              "      <th>Completou o Ensino Médio, mas não completou a Faculdade</th>\n",
              "      <td>167.0</td>\n",
              "      <td>568.622754</td>\n",
              "      <td>172.556665</td>\n",
              "      <td>0.0</td>\n",
              "      <td>450.0</td>\n",
              "      <td>560.0</td>\n",
              "      <td>680.0</td>\n",
              "      <td>960.0</td>\n",
              "    </tr>\n",
              "    <tr>\n",
              "      <th>Nunca estudou</th>\n",
              "      <td>40.0</td>\n",
              "      <td>575.500000</td>\n",
              "      <td>205.388313</td>\n",
              "      <td>260.0</td>\n",
              "      <td>400.0</td>\n",
              "      <td>530.0</td>\n",
              "      <td>760.0</td>\n",
              "      <td>960.0</td>\n",
              "    </tr>\n",
              "    <tr>\n",
              "      <th>Não completou a 4ª série/5º ano do Ensino Fundamental</th>\n",
              "      <td>180.0</td>\n",
              "      <td>471.666667</td>\n",
              "      <td>154.180117</td>\n",
              "      <td>0.0</td>\n",
              "      <td>360.0</td>\n",
              "      <td>480.0</td>\n",
              "      <td>580.0</td>\n",
              "      <td>920.0</td>\n",
              "    </tr>\n",
              "    <tr>\n",
              "      <th>Não sei</th>\n",
              "      <td>73.0</td>\n",
              "      <td>532.876712</td>\n",
              "      <td>172.992288</td>\n",
              "      <td>220.0</td>\n",
              "      <td>380.0</td>\n",
              "      <td>520.0</td>\n",
              "      <td>640.0</td>\n",
              "      <td>920.0</td>\n",
              "    </tr>\n",
              "  </tbody>\n",
              "</table>\n",
              "</div>"
            ],
            "text/plain": [
              "                                                   NU_NOTA_REDACAO  ...       \n",
              "                                                             count  ...    max\n",
              "NO_Q001                                                             ...       \n",
              "Completou a 4ª série/5º ano, mas não completou ...           101.0  ...  960.0\n",
              "Completou a 8ª série/9º ano do Ensino Fundament...            86.0  ...  960.0\n",
              "Completou a Faculdade, mas não completou a Pós-...            28.0  ...  920.0\n",
              "Completou a Pós-graduação                                      5.0  ...  900.0\n",
              "Completou o Ensino Médio, mas não completou a F...           167.0  ...  960.0\n",
              "Nunca estudou                                                 40.0  ...  960.0\n",
              "Não completou a 4ª série/5º ano do Ensino Funda...           180.0  ...  920.0\n",
              "Não sei                                                       73.0  ...  920.0\n",
              "\n",
              "[8 rows x 8 columns]"
            ]
          },
          "metadata": {
            "tags": []
          },
          "execution_count": 53
        }
      ]
    },
    {
      "cell_type": "markdown",
      "metadata": {
        "id": "b5un8oXnMyVw",
        "colab_type": "text"
      },
      "source": [
        "Comparando desempenho na redação com a escolaridade das mães"
      ]
    },
    {
      "cell_type": "code",
      "metadata": {
        "id": "VOE88zMcM2rB",
        "colab_type": "code",
        "colab": {
          "base_uri": "https://localhost:8080/",
          "height": 298
        },
        "outputId": "41730103-9edf-496d-d156-f030e7034d43"
      },
      "source": [
        "selection_of_grades_by_mothers_schooling = selected_columns_for_socioeconomic_issues.filter(items=['NU_NOTA_REDACAO', 'NO_Q002']).groupby('NO_Q002').mean().sort_values(by='NU_NOTA_REDACAO', ascending=False)\n",
        "selection_of_grades_by_mothers_schooling.plot()"
      ],
      "execution_count": 55,
      "outputs": [
        {
          "output_type": "execute_result",
          "data": {
            "text/plain": [
              "<matplotlib.axes._subplots.AxesSubplot at 0x7fc5f95d4780>"
            ]
          },
          "metadata": {
            "tags": []
          },
          "execution_count": 55
        },
        {
          "output_type": "display_data",
          "data": {
            "image/png": "[encoded data removed]",
            "text/plain": [
              "<Figure size 432x288 with 1 Axes>"
            ]
          },
          "metadata": {
            "tags": [],
            "needs_background": "light"
          }
        }
      ]
    },
    {
      "cell_type": "code",
      "metadata": {
        "id": "pqPnVuUfM2XX",
        "colab_type": "code",
        "colab": {
          "base_uri": "https://localhost:8080/",
          "height": 347
        },
        "outputId": "5ea57bb1-f2de-40c5-8f5e-31842bf9d331"
      },
      "source": [
        "selection_of_grades_by_mothers_schooling = selected_columns_for_socioeconomic_issues.filter(items=['NU_NOTA_REDACAO', 'NO_Q002']).groupby('NO_Q002')\n",
        "selection_of_grades_by_mothers_schooling.describe()"
      ],
      "execution_count": 56,
      "outputs": [
        {
          "output_type": "execute_result",
          "data": {
            "text/html": [
              "<div>\n",
              "<style scoped>\n",
              "    .dataframe tbody tr th:only-of-type {\n",
              "        vertical-align: middle;\n",
              "    }\n",
              "\n",
              "    .dataframe tbody tr th {\n",
              "        vertical-align: top;\n",
              "    }\n",
              "\n",
              "    .dataframe thead tr th {\n",
              "        text-align: left;\n",
              "    }\n",
              "\n",
              "    .dataframe thead tr:last-of-type th {\n",
              "        text-align: right;\n",
              "    }\n",
              "</style>\n",
              "<table border=\"1\" class=\"dataframe\">\n",
              "  <thead>\n",
              "    <tr>\n",
              "      <th></th>\n",
              "      <th colspan=\"8\" halign=\"left\">NU_NOTA_REDACAO</th>\n",
              "    </tr>\n",
              "    <tr>\n",
              "      <th></th>\n",
              "      <th>count</th>\n",
              "      <th>mean</th>\n",
              "      <th>std</th>\n",
              "      <th>min</th>\n",
              "      <th>25%</th>\n",
              "      <th>50%</th>\n",
              "      <th>75%</th>\n",
              "      <th>max</th>\n",
              "    </tr>\n",
              "    <tr>\n",
              "      <th>NO_Q002</th>\n",
              "      <th></th>\n",
              "      <th></th>\n",
              "      <th></th>\n",
              "      <th></th>\n",
              "      <th></th>\n",
              "      <th></th>\n",
              "      <th></th>\n",
              "      <th></th>\n",
              "    </tr>\n",
              "  </thead>\n",
              "  <tbody>\n",
              "    <tr>\n",
              "      <th>Completou a 4ª série/5º ano, mas não completou a 8ª série/9º ano do Ensino Fundamental</th>\n",
              "      <td>96.0</td>\n",
              "      <td>525.625000</td>\n",
              "      <td>168.152891</td>\n",
              "      <td>240.0</td>\n",
              "      <td>375.0</td>\n",
              "      <td>510.0</td>\n",
              "      <td>640.0</td>\n",
              "      <td>960.0</td>\n",
              "    </tr>\n",
              "    <tr>\n",
              "      <th>Completou a 8ª série/9º ano do Ensino Fundamental, mas não completou o Ensino Médio</th>\n",
              "      <td>91.0</td>\n",
              "      <td>558.901099</td>\n",
              "      <td>184.061889</td>\n",
              "      <td>300.0</td>\n",
              "      <td>380.0</td>\n",
              "      <td>560.0</td>\n",
              "      <td>660.0</td>\n",
              "      <td>960.0</td>\n",
              "    </tr>\n",
              "    <tr>\n",
              "      <th>Completou a Faculdade, mas não completou a Pós-graduação</th>\n",
              "      <td>52.0</td>\n",
              "      <td>612.307692</td>\n",
              "      <td>140.595587</td>\n",
              "      <td>340.0</td>\n",
              "      <td>535.0</td>\n",
              "      <td>600.0</td>\n",
              "      <td>680.0</td>\n",
              "      <td>920.0</td>\n",
              "    </tr>\n",
              "    <tr>\n",
              "      <th>Completou a Pós-graduação</th>\n",
              "      <td>21.0</td>\n",
              "      <td>605.714286</td>\n",
              "      <td>168.421241</td>\n",
              "      <td>320.0</td>\n",
              "      <td>500.0</td>\n",
              "      <td>620.0</td>\n",
              "      <td>720.0</td>\n",
              "      <td>860.0</td>\n",
              "    </tr>\n",
              "    <tr>\n",
              "      <th>Completou o Ensino Médio, mas não completou a Faculdade</th>\n",
              "      <td>239.0</td>\n",
              "      <td>561.506276</td>\n",
              "      <td>172.157073</td>\n",
              "      <td>0.0</td>\n",
              "      <td>440.0</td>\n",
              "      <td>560.0</td>\n",
              "      <td>670.0</td>\n",
              "      <td>960.0</td>\n",
              "    </tr>\n",
              "    <tr>\n",
              "      <th>Nunca estudou</th>\n",
              "      <td>14.0</td>\n",
              "      <td>514.285714</td>\n",
              "      <td>155.796430</td>\n",
              "      <td>280.0</td>\n",
              "      <td>410.0</td>\n",
              "      <td>510.0</td>\n",
              "      <td>560.0</td>\n",
              "      <td>820.0</td>\n",
              "    </tr>\n",
              "    <tr>\n",
              "      <th>Não completou a 4ª série/5º ano do Ensino Fundamental</th>\n",
              "      <td>151.0</td>\n",
              "      <td>489.536424</td>\n",
              "      <td>174.765892</td>\n",
              "      <td>0.0</td>\n",
              "      <td>360.0</td>\n",
              "      <td>500.0</td>\n",
              "      <td>580.0</td>\n",
              "      <td>960.0</td>\n",
              "    </tr>\n",
              "    <tr>\n",
              "      <th>Não sei</th>\n",
              "      <td>16.0</td>\n",
              "      <td>521.250000</td>\n",
              "      <td>130.121738</td>\n",
              "      <td>320.0</td>\n",
              "      <td>430.0</td>\n",
              "      <td>550.0</td>\n",
              "      <td>605.0</td>\n",
              "      <td>740.0</td>\n",
              "    </tr>\n",
              "  </tbody>\n",
              "</table>\n",
              "</div>"
            ],
            "text/plain": [
              "                                                   NU_NOTA_REDACAO  ...       \n",
              "                                                             count  ...    max\n",
              "NO_Q002                                                             ...       \n",
              "Completou a 4ª série/5º ano, mas não completou ...            96.0  ...  960.0\n",
              "Completou a 8ª série/9º ano do Ensino Fundament...            91.0  ...  960.0\n",
              "Completou a Faculdade, mas não completou a Pós-...            52.0  ...  920.0\n",
              "Completou a Pós-graduação                                     21.0  ...  860.0\n",
              "Completou o Ensino Médio, mas não completou a F...           239.0  ...  960.0\n",
              "Nunca estudou                                                 14.0  ...  820.0\n",
              "Não completou a 4ª série/5º ano do Ensino Funda...           151.0  ...  960.0\n",
              "Não sei                                                       16.0  ...  740.0\n",
              "\n",
              "[8 rows x 8 columns]"
            ]
          },
          "metadata": {
            "tags": []
          },
          "execution_count": 56
        }
      ]
    },
    {
      "cell_type": "markdown",
      "metadata": {
        "id": "WrRxwv43o8K1",
        "colab_type": "text"
      },
      "source": [
        "# Rodapé\n",
        "> A \"pulo do gato\" da análise está nas perguntas que fazemos.\n",
        "\n"
      ]
    }
  ]
}